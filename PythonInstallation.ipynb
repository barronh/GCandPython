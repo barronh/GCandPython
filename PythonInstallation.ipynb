{
 "cells": [
  {
   "cell_type": "markdown",
   "metadata": {
    "slideshow": {
     "slide_type": "slide"
    }
   },
   "source": [
    "# Anaconda Installation\n",
    "## includes: python, ipython, spyder, jupyter, and more...\n",
    "\n",
    "Author: Barron Henderson"
   ]
  },
  {
   "cell_type": "markdown",
   "metadata": {
    "slideshow": {
     "slide_type": "slide"
    }
   },
   "source": [
    "# Better instructions are elsewhere\n",
    "\n",
    "1. These were written for distribution for a specific workshop\n",
    "2. These might be out of date\n",
    "3. Anaconda website (https://www.continuum.io/downloads) may be more throrough\n",
    "4. If you're still reading, go ahead and use these.\n"
   ]
  },
  {
   "cell_type": "markdown",
   "metadata": {
    "slideshow": {
     "slide_type": "slide"
    }
   },
   "source": [
    "# Windows Installation\n",
    "\n",
    "## How-to\n",
    "1. Select an installer from below\n",
    "2. Download the installer\n",
    "3. unzip first, only if necessary\n",
    "4. Double click installer \n",
    "5. Follow instructions to install\n",
    "   - if you have admin rights, for system\n",
    "   - if you don't, just your user\n",
    "\n",
    "## Windows not zipped\n",
    "- 64-bit: http://repo.continuum.io/archive/Anaconda3-4.0.0-Windows-x86_64.exe\n",
    "- 32-bit: http://repo.continuum.io/archive/Anaconda3-4.0.0-Windows-x86.exe\n",
    "- 64-bit-zipped: https://repo.continuum.io/archive/.winzip/Anaconda3-4.0.0-Windows-x86_64.zip\n",
    "- 32-bit-zipped: https://repo.continuum.io/archive/.winzip/Anaconda3-4.0.0-Windows-x86.zip"
   ]
  },
  {
   "cell_type": "markdown",
   "metadata": {},
   "source": [
    "# OS X graphical\n",
    "1. Download http://repo.continuum.io/archive/Anaconda3-4.0.0-MacOSX-x86_64.pkg\n",
    "2. Double click\n",
    "3. Follow instructions to install\n",
    "   - if you have admin rights, for system\n",
    "   - if you don't, just your user\n",
    "   "
   ]
  },
  {
   "cell_type": "markdown",
   "metadata": {
    "slideshow": {
     "slide_type": "slide"
    }
   },
   "source": [
    "# OS X Command line\n",
    "1. Download: http://repo.continuum.io/archive/Anaconda3-4.0.0-MacOSX-x86_64.sh\n",
    "2. Open a terminal (command+space, type terminal, enter)\n",
    "3. `cd ~/Downloads`\n",
    "4. `bash Anaconda3-4.0.0-MacOSX-x86_64.sh`\n",
    "5. Follow instructions to install\n",
    "   - if you have admin rights, for system\n",
    "   - if you don't, just your user"
   ]
  },
  {
   "cell_type": "code",
   "execution_count": null,
   "metadata": {
    "collapsed": true,
    "slideshow": {
     "slide_type": "fragment"
    }
   },
   "outputs": [],
   "source": [
    "%%bash\n",
    "cd ~/Downloads\n",
    "curl -LO http://repo.continuum.io/archive/Anaconda3-4.0.0-MacOSX-x86_64.sh\n",
    "bash Anaconda3-4.0.0-MacOSX-x86_64.sh"
   ]
  },
  {
   "cell_type": "markdown",
   "metadata": {
    "slideshow": {
     "slide_type": "slide"
    }
   },
   "source": [
    "# Linux\n",
    "1. Download one of the installers\n",
    "    - 64-bit: http://repo.continuum.io/archive/Anaconda3-4.0.0-Linux-x86_64.sh\n",
    "    - 32-bit: http://repo.continuum.io/archive/Anaconda3-4.0.0-Linux-x86.sh\n",
    "2. Open a terminal\n",
    "3. Navigate to your download.\n",
    "4. Run installer\n",
    "    - `bash Anaconda3-4.0.0-Linux-x86_64.sh`\n",
    "    - `bash Anaconda3-4.0.0-Linux-x86.sh`\n",
    "5. Follow instructions to install\n",
    "   - if you have admin rights, for system\n",
    "   - if you don't, just your user"
   ]
  },
  {
   "cell_type": "markdown",
   "metadata": {
    "slideshow": {
     "slide_type": "slide"
    }
   },
   "source": [
    "# Confirm Installation\n",
    "1. Find \"Navigator\"\n",
    "2. Open \"Navigator\"\n",
    "3. Launch I[py] qtconsol\n",
    "4. Compare forematter\n",
    "\n",
    "    ```\n",
    "    Jupyter QtConsole 4.2.0\n",
    "    Python 3.5.1 |Anaconda custom (x86_64)| (default, Dec  7 2015, 11:24:55)  \n",
    "    Type \"copyright\", \"credits\" or \"license\" for more information.\n",
    "\n",
    "    IPython 4.1.2 -- An enhanced Interactive Python.  \n",
    "    ?         -> Introduction and overview of IPython's features.  \n",
    "    %quickref -> Quick reference.  \n",
    "    help      -> Python's own help system.  \n",
    "    object?   -> Details about 'object', use 'object??' for extra details.  \n",
    "    ```"
   ]
  },
  {
   "cell_type": "markdown",
   "metadata": {
    "slideshow": {
     "slide_type": "slide"
    }
   },
   "source": [
    "# Alternative Confirmation\n",
    "\n",
    "1. Open a terminal or dos prompt\n",
    "2. type `ipython -ic \"exit()\"`\n",
    "\n",
    "\n",
    "* On windows, ipython might require ipython.exe"
   ]
  },
  {
   "cell_type": "code",
   "execution_count": 1,
   "metadata": {
    "collapsed": false,
    "slideshow": {
     "slide_type": "slide"
    }
   },
   "outputs": [
    {
     "name": "stdout",
     "output_type": "stream",
     "text": [
      "Python 3.5.1 |Anaconda custom (x86_64)| (default, Dec  7 2015, 11:24:55) \r\n",
      "Type \"copyright\", \"credits\" or \"license\" for more information.\r\n",
      "\r\n",
      "IPython 4.1.2 -- An enhanced Interactive Python.\r\n",
      "?         -> Introduction and overview of IPython's features.\r\n",
      "%quickref -> Quick reference.\r\n",
      "help      -> Python's own help system.\r\n",
      "object?   -> Details about 'object', use 'object??' for extra details.\r\n"
     ]
    }
   ],
   "source": [
    "!ipython -ic \"exit()\""
   ]
  },
  {
   "cell_type": "markdown",
   "metadata": {
    "collapsed": true,
    "slideshow": {
     "slide_type": "slide"
    }
   },
   "source": [
    "# Extra Libraries\n",
    "\n",
    "Most libraries we use, come with Anaconda. Some, however, need a little version syncronizing."
   ]
  },
  {
   "cell_type": "code",
   "execution_count": 2,
   "metadata": {
    "collapsed": false,
    "slideshow": {
     "slide_type": "fragment"
    }
   },
   "outputs": [],
   "source": [
    "!conda install -y h5py>=2.5.0 hdf5>=1.8.15.1 libnetcdf>=4.3.3.1 matplotlib>=1.5.1 netcdf4>=1.2.2 numpy>=1.8 pandas>=0.18.0 proj.4>=4.9.1 pyproj>=1.9.4 python>=3.5.1 pyyaml>=3.11 scipy>=0.17.0 yaml>=0.1.6 zlib>=1.2.8 basemap>=1.0.7 shapely>=1.5"
   ]
  },
  {
   "cell_type": "markdown",
   "metadata": {
    "slideshow": {
     "slide_type": "slide"
    }
   },
   "source": [
    "# Install PNC Library\n",
    "\n",
    "PseudoNetCDF is an important library for processing Atmospheric data formats (bpch, uamiv, etc).\n",
    "\n",
    "- Visit site http://github.com/barronh/pseudonetcdf\n",
    "- How do you install it?"
   ]
  },
  {
   "cell_type": "markdown",
   "metadata": {
    "slideshow": {
     "slide_type": "skip"
    }
   },
   "source": [
    "# ANSWER HIDE\n"
   ]
  },
  {
   "cell_type": "code",
   "execution_count": null,
   "metadata": {
    "collapsed": true,
    "slideshow": {
     "slide_type": "skip"
    }
   },
   "outputs": [],
   "source": [
    "!pip install http://github.com/barronh/pseudonetcdf/archive/master.zip"
   ]
  }
 ],
 "metadata": {
  "celltoolbar": "Slideshow",
  "kernelspec": {
   "display_name": "Python 3",
   "language": "python",
   "name": "python3"
  },
  "language_info": {
   "codemirror_mode": {
    "name": "ipython",
    "version": 3
   },
   "file_extension": ".py",
   "mimetype": "text/x-python",
   "name": "python",
   "nbconvert_exporter": "python",
   "pygments_lexer": "ipython3",
   "version": "3.5.1"
  }
 },
 "nbformat": 4,
 "nbformat_minor": 0
}
