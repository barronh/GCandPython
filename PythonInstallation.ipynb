{
 "cells": [
  {
   "cell_type": "code",
   "execution_count": 2,
   "metadata": {
    "collapsed": false
   },
   "outputs": [
    {
     "data": {
      "text/html": [
       "\n",
       "<style>\n",
       ".answers { \n",
       "    visibility: hidden;\n",
       "}\n",
       "</style>\n"
      ],
      "text/plain": [
       "<IPython.core.display.HTML object>"
      ]
     },
     "execution_count": 2,
     "metadata": {},
     "output_type": "execute_result"
    }
   ],
   "source": [
    "from notebook.services.config import ConfigManager\n",
    "cfm = ConfigManager()\n",
    "cfm.update('livereveal', {\n",
    "              'theme': 'simple',\n",
    "              'transition': 'convex',\n",
    "              'start_slideshow_at': 'selected'\n",
    "})\n",
    "from IPython.core.display import HTML\n",
    "HTML(\"\"\"\n",
    "<style>\n",
    ".answers { \n",
    "    visibility: hidden;\n",
    "}\n",
    "</style>\n",
    "\"\"\")\n",
    "\n"
   ]
  },
  {
   "cell_type": "markdown",
   "metadata": {
    "slideshow": {
     "slide_type": "slide"
    }
   },
   "source": [
    "# Anaconda Installation\n",
    "## includes: python, ipython, spyder, jupyter, and more...\n",
    "\n",
    "Author: Barron Henderson"
   ]
  },
  {
   "cell_type": "markdown",
   "metadata": {
    "slideshow": {
     "slide_type": "slide"
    }
   },
   "source": [
    "# Better instructions are elsewhere\n",
    "\n",
    "1. These were written for distribution for a specific workshop\n",
    "2. These might be out of date\n",
    "3. Anaconda website (https://www.continuum.io/downloads) may be more throrough\n",
    "4. If you're still reading, go ahead and use these.\n"
   ]
  },
  {
   "cell_type": "markdown",
   "metadata": {
    "slideshow": {
     "slide_type": "slide"
    }
   },
   "source": [
    "# Windows Installation\n",
    "\n",
    "## How-to\n",
    "1. Select an installer from below\n",
    "2. Download the installer\n",
    "3. unzip first, only if necessary\n",
    "4. Double click installer \n",
    "5. Follow instructions to install\n",
    "   - if you have admin rights, for system\n",
    "   - if you don't, just your user - install directly in user directory.\n",
    "\n",
    "## Windows not zipped\n",
    "- 64-bit: http://repo.continuum.io/archive/Anaconda3-4.0.0-Windows-x86_64.exe\n",
    "- 32-bit: http://repo.continuum.io/archive/Anaconda3-4.0.0-Windows-x86.exe\n",
    "- 64-bit-zipped: https://repo.continuum.io/archive/.winzip/Anaconda3-4.0.0-Windows-x86_64.zip\n",
    "- 32-bit-zipped: https://repo.continuum.io/archive/.winzip/Anaconda3-4.0.0-Windows-x86.zip"
   ]
  },
  {
   "cell_type": "markdown",
   "metadata": {},
   "source": [
    "# OS X graphical\n",
    "1. Download http://repo.continuum.io/archive/Anaconda3-4.0.0-MacOSX-x86_64.pkg\n",
    "2. Double click\n",
    "3. Follow instructions to install\n",
    "   - if you have admin rights, for system\n",
    "   - if you don't, just your user\n",
    "   "
   ]
  },
  {
   "cell_type": "markdown",
   "metadata": {
    "slideshow": {
     "slide_type": "slide"
    }
   },
   "source": [
    "# OS X Command line\n",
    "1. Download: http://repo.continuum.io/archive/Anaconda3-4.0.0-MacOSX-x86_64.sh\n",
    "2. Open a terminal (command+space, type terminal, enter)\n",
    "3. `cd ~/Downloads`\n",
    "4. `bash Anaconda3-4.0.0-MacOSX-x86_64.sh`\n",
    "5. Follow instructions to install\n",
    "   - if you have admin rights, for system\n",
    "   - if you don't, just your user"
   ]
  },
  {
   "cell_type": "code",
   "execution_count": null,
   "metadata": {
    "collapsed": false,
    "slideshow": {
     "slide_type": "fragment"
    }
   },
   "outputs": [],
   "source": [
    "%%bash\n",
    "cd ~/Downloads\n",
    "curl -LO http://repo.continuum.io/archive/Anaconda3-4.0.0-MacOSX-x86_64.sh\n",
    "bash Anaconda3-4.0.0-MacOSX-x86_64.sh"
   ]
  },
  {
   "cell_type": "markdown",
   "metadata": {
    "slideshow": {
     "slide_type": "slide"
    }
   },
   "source": [
    "# Linux\n",
    "1. Download one of the installers\n",
    "    - 64-bit: http://repo.continuum.io/archive/Anaconda3-4.0.0-Linux-x86_64.sh\n",
    "    - 32-bit: http://repo.continuum.io/archive/Anaconda3-4.0.0-Linux-x86.sh\n",
    "2. Open a terminal\n",
    "3. Navigate to your download.\n",
    "4. Run installer\n",
    "    - `bash Anaconda3-4.0.0-Linux-x86_64.sh`\n",
    "    - `bash Anaconda3-4.0.0-Linux-x86.sh`\n",
    "5. Follow instructions to install\n",
    "   - if you have admin rights, for system\n",
    "   - if you don't, just your user"
   ]
  },
  {
   "cell_type": "markdown",
   "metadata": {
    "slideshow": {
     "slide_type": "slide"
    }
   },
   "source": [
    "# Confirm Installation\n",
    "1. Find \"Navigator\"\n",
    "2. Open \"Navigator\"\n",
    "3. Launch I[py] qtconsol\n",
    "4. Compare forematter\n",
    "\n",
    "    ```\n",
    "    Jupyter QtConsole 4.2.0\n",
    "    Python 3.5.1 |Anaconda custom (x86_64)| (default, Dec  7 2015, 11:24:55)  \n",
    "    Type \"copyright\", \"credits\" or \"license\" for more information.\n",
    "\n",
    "    IPython 4.1.2 -- An enhanced Interactive Python.  \n",
    "    ?         -> Introduction and overview of IPython's features.  \n",
    "    %quickref -> Quick reference.  \n",
    "    help      -> Python's own help system.  \n",
    "    object?   -> Details about 'object', use 'object??' for extra details.  \n",
    "    ```"
   ]
  },
  {
   "cell_type": "markdown",
   "metadata": {
    "slideshow": {
     "slide_type": "slide"
    }
   },
   "source": [
    "# Alternative Confirmation\n",
    "\n",
    "1. Open a terminal or dos prompt\n",
    "2. type `ipython -ic \"exit()\"`\n",
    "\n",
    "\n",
    "* On windows, ipython might require ipython.exe"
   ]
  },
  {
   "cell_type": "code",
   "execution_count": 1,
   "metadata": {
    "collapsed": false,
    "slideshow": {
     "slide_type": "slide"
    }
   },
   "outputs": [
    {
     "name": "stdout",
     "output_type": "stream",
     "text": [
      "Python 3.5.1 |Anaconda custom (x86_64)| (default, Dec  7 2015, 11:24:55) \r\n",
      "Type \"copyright\", \"credits\" or \"license\" for more information.\r\n",
      "\r\n",
      "IPython 4.1.2 -- An enhanced Interactive Python.\r\n",
      "?         -> Introduction and overview of IPython's features.\r\n",
      "%quickref -> Quick reference.\r\n",
      "help      -> Python's own help system.\r\n",
      "object?   -> Details about 'object', use 'object??' for extra details.\r\n"
     ]
    }
   ],
   "source": [
    "!ipython -ic \"exit()\""
   ]
  },
  {
   "cell_type": "markdown",
   "metadata": {
    "collapsed": true,
    "slideshow": {
     "slide_type": "slide"
    }
   },
   "source": [
    "# Extra Libraries\n",
    "\n",
    "Most libraries we use, come with Anaconda. Some, however, need a little version syncronizing."
   ]
  },
  {
   "cell_type": "markdown",
   "metadata": {
    "slideshow": {
     "slide_type": "subslide"
    }
   },
   "source": [
    "# Windows\n",
    "\n",
    "1. Download shapely for later http://www.lfd.uci.edu/~gohlke/pythonlibs/#shapely\n",
    "2. Download basemap for later http://www.lfd.uci.edu/~gohlke/pythonlibs/#basemap"
   ]
  },
  {
   "cell_type": "code",
   "execution_count": null,
   "metadata": {
    "collapsed": false,
    "slideshow": {
     "slide_type": "fragment"
    }
   },
   "outputs": [],
   "source": [
    "!conda install \"python>=3.3\" \"hdf5>=1.8.15.1\" \"h5py>=2.5.0\" \"libnetcdf>=4.3.3.1\" \"netcdf4>=1.2.2\" \"numpy=1.10.4\" \"scipy>=0.17.0\" \"matplotlib>=1.5.1\" \"pandas>=0.18.0\" \"proj4>=4.9.1\" \"pyproj>=1.9.4\" \"pyyaml>=3.11\" \"yaml>=0.1.6\" \"zlib>=1.2.8\" \"jupyter\""
   ]
  },
  {
   "cell_type": "code",
   "execution_count": null,
   "metadata": {
    "collapsed": false
   },
   "outputs": [],
   "source": [
    "!pip install Shapely-1.5.16-cp34-cp34m-win_amd64.whl\n",
    "!pip install basemap-1.0.8-cp34-none-win_amd64.whl"
   ]
  },
  {
   "cell_type": "markdown",
   "metadata": {
    "slideshow": {
     "slide_type": "subslide"
    }
   },
   "source": [
    "# Mac "
   ]
  },
  {
   "cell_type": "code",
   "execution_count": null,
   "metadata": {
    "collapsed": false,
    "slideshow": {
     "slide_type": "fragment"
    }
   },
   "outputs": [],
   "source": [
    "!conda install \"python>=3.3\" \"hdf5>=1.8.15.1\" \"h5py>=2.5.0\" \"libnetcdf>=4.3.3.1\" \"netcdf4>=1.2.2\" \"numpy>=1.8\" \"scipy>=0.17.0\" \"matplotlib>=1.5.1\" \"pandas>=0.18.0\" \"proj.4>=4.9.1\" \"pyproj>=1.9.4\" \"pyyaml>=3.11\" \"yaml>=0.1.6\" \"zlib>=1.2.8\" \"basemap>=1.0.7\" \"shapely>=1.5\""
   ]
  },
  {
   "cell_type": "markdown",
   "metadata": {
    "slideshow": {
     "slide_type": "slide"
    }
   },
   "source": [
    "# Install PNC Library\n",
    "\n",
    "PseudoNetCDF is an important library for processing Atmospheric data formats (bpch, uamiv, etc).\n",
    "\n",
    "- Visit site http://github.com/barronh/pseudonetcdf\n",
    "- How do you install it?\n",
    "- To get the latest version, add \"--upgrade\""
   ]
  },
  {
   "cell_type": "markdown",
   "metadata": {
    "slideshow": {
     "slide_type": "subslide"
    }
   },
   "source": [
    "# ANSWER HIDDEN\n",
    "\n",
    "<div class=\"answers\">\n",
    "```\n",
    "!pip install http://github.com/barronh/pseudonetcdf/archive/master.zip\n",
    "```\n",
    "</div>\n"
   ]
  },
  {
   "cell_type": "markdown",
   "metadata": {},
   "source": [
    "# Run pncdump.py\n",
    "\n",
    "Just as a test.\n",
    "1. Run with help option\n",
    "2. Run with dummy path"
   ]
  },
  {
   "cell_type": "code",
   "execution_count": 3,
   "metadata": {
    "collapsed": false
   },
   "outputs": [
    {
     "name": "stdout",
     "output_type": "stream",
     "text": [
      "usage: pncdump.py [-h] [--pnc PNC]\r\n",
      "                  [-f {see --list-formats for choices}]\r\n",
      "                  [--list-format] [--help-format HELPFORMAT]\r\n",
      "                  [--sep] [--inherit] [--mangle]\r\n",
      "                  [--rename RENAME]\r\n",
      "                  [--remove-singleton REMOVESINGLETON] [-H]\r\n",
      "                  [-t] [--full-indices [c|f]] [-l LEN]\r\n",
      "                  [--float-precision FDIG]\r\n",
      "                  [--double-precision PDIG]\r\n",
      "                  [--dump-name CDLNAME]\r\n",
      "                  [--coordkeys key1,key2]\r\n",
      "                  [-v varname1[,varname2[,...,varnameN]]\r\n",
      "                  [-a att_nm,var_nm,mode,att_typ,att_val]\r\n",
      "                  [-m MASKS] [--from-convention FROMCONV]\r\n",
      "                  [--to-convention TOCONV] [--stack STACK]\r\n",
      "                  [--merge] [-s dim,start[,stop[,step]]]\r\n",
      "                  [-r dim,function[,weight]]\r\n",
      "                  [--mesh dim,weight,function]\r\n",
      "                  [-c dim,mode,wgt1,wgt2,...wgtN] [-e EXTRACT]\r\n",
      "                  [--extract-file EXTRACTFILE]\r\n",
      "                  [--extractmethod {nn,linear,cubic,quintic,KDTree}]\r\n",
      "                  [--op-typ OPERATORS] [--expr EXPRESSIONS]\r\n",
      "                  [--exprscript EXPRESSIONSCRIPTS]\r\n",
      "                  [ifile [ifile ...]]\r\n",
      "\r\n",
      "PseudoNetCDF Argument Parsing\r\n",
      "\r\n",
      "positional arguments:\r\n",
      "  ifile                 path to a file formatted as type -f\r\n",
      "\r\n",
      "optional arguments:\r\n",
      "  -h, --help            show this help message and exit\r\n",
      "  --pnc PNC             Set of pseudonetcdf commands to be\r\n",
      "                        process separately\r\n",
      "  -f {see --list-formats for choices}, --format {see --list-formats for choices}\r\n",
      "                        File format (default netcdf), can be\r\n",
      "                        one of the choices listed, or an\r\n",
      "                        expression that evaluates to a reader.\r\n",
      "                        Keyword arguments are passed via\r\n",
      "                        ,kwd=value.\r\n",
      "  --list-format         Show format options for -f\r\n",
      "  --help-format HELPFORMAT\r\n",
      "                        Show help for file format (must be one\r\n",
      "                        of the options for -f)\r\n",
      "  --sep                 Used to separate groups of arguments\r\n",
      "                        for parsing (e.g., pncgen --\r\n",
      "                        [options1] file(s)1 [--sep [options2]\r\n",
      "                        file(s)2 [... [--sep [optionsN]\r\n",
      "                        file(s)N]]\r\n",
      "  --inherit             Allow subparsed sections (separated\r\n",
      "                        with -- and --sep) to inherit from\r\n",
      "                        global options (-f, --format is always\r\n",
      "                        inherited).\r\n",
      "  --mangle              Remove non-standard ascii from names\r\n",
      "  --rename RENAME       Provide pairs of strings to be\r\n",
      "                        substituted\r\n",
      "                        --rename=type,oldkey,newkey (type: v =\r\n",
      "                        variable; d = dimension;)\r\n",
      "  --remove-singleton REMOVESINGLETON\r\n",
      "                        Remove singleton (length 1) dimensions\r\n",
      "  -H, --header\r\n",
      "  -t, --timestring\r\n",
      "  --full-indices [c|f]  Provide indices in CDL using either C\r\n",
      "                        or Fortran style indexes. C style is\r\n",
      "                        0-based and ordered from slowest\r\n",
      "                        iterating dimension to fastest.\r\n",
      "                        Fortran style is 1-based and ordered\r\n",
      "                        from fastest to slowest iterating\r\n",
      "                        dimension\r\n",
      "  -l LEN, --length LEN  CDL line length (pncdump only)\r\n",
      "  --float-precision FDIG\r\n",
      "                        single precision digitis (default 8;\r\n",
      "                        pncdump only)\r\n",
      "  --double-precision PDIG\r\n",
      "                        pdig double precision digits (default\r\n",
      "                        16; pncdump only)\r\n",
      "  --dump-name CDLNAME   Name for display in ncdump\r\n",
      "  --coordkeys key1,key2\r\n",
      "                        Variables to be ignored in pncbo.\r\n",
      "  -v varname1[,varname2[,...,varnameN], --variables varname1[,varname2[,...,varnameN]\r\n",
      "                        Variable names or regular expressions\r\n",
      "                        (using match) separated by ','. If a\r\n",
      "                        group(s) has been specified, only\r\n",
      "                        variables in that (those) group(s)\r\n",
      "                        will be selected.\r\n",
      "  -a att_nm,var_nm,mode,att_typ,att_val, --attribute att_nm,var_nm,mode,att_typ,att_val\r\n",
      "                        Variables have attributes that can be\r\n",
      "                        added following nco syntax\r\n",
      "                        (--attribute\r\n",
      "                        att_nm,var_nm,mode,att_typ,att_val);\r\n",
      "                        mode = a,c,d,m,o and att_typ =\r\n",
      "                        f,d,l,s,c,b; att_typ is any valid\r\n",
      "                        numpy type.\r\n",
      "  -m MASKS, --mask MASKS\r\n",
      "                        Masks to apply (e.g., greater,0 or\r\n",
      "                        less,0 or values,0, or where,(time[:]%\r\n",
      "                        24<12)[:,None].repeat(10,1))\r\n",
      "  --from-convention FROMCONV\r\n",
      "                        From convention currently only support\r\n",
      "                        ioapi\r\n",
      "  --to-convention TOCONV\r\n",
      "                        To convention currently only supports\r\n",
      "                        cf\r\n",
      "  --stack STACK         Concatentate (stack) files on the\r\n",
      "                        dimension.\r\n",
      "  --merge               Combine variables into one file\r\n",
      "  -s dim,start[,stop[,step]], --slice dim,start[,stop[,step]]\r\n",
      "                        Variables have dimensions (time,\r\n",
      "                        layer, lat, lon), which can be subset\r\n",
      "                        using dim,start,stop,stride (e.g.,\r\n",
      "                        --slice=layer,0,47,5 would sample\r\n",
      "                        every fifth layer starting at 0)\r\n",
      "  -r dim,function[,weight], --reduce dim,function[,weight]\r\n",
      "                        Variable dimensions can be reduced\r\n",
      "                        using dim,function,weight syntax\r\n",
      "                        (e.g., --reduce=layer,mean,weight).\r\n",
      "                        Weighting is not fully functional.\r\n",
      "  --mesh dim,weight,function\r\n",
      "                        Variable dimensions can be meshed\r\n",
      "                        using dim,function,weight syntax\r\n",
      "                        (e.g., --mesh=time,0.5,mean).\r\n",
      "  -c dim,mode,wgt1,wgt2,...wgtN, --convolve dim,mode,wgt1,wgt2,...wgtN\r\n",
      "                        Variable dimension is reduced by\r\n",
      "                        convolve function\r\n",
      "                        (dim,mode,wgt1,wgt2,...wgtN)\r\n",
      "  -e EXTRACT, --extract EXTRACT\r\n",
      "                        lon/lat coordinates to extract lon1,la\r\n",
      "                        t1/lon2,lat2/lon3,lat3/.../lonN,latN\r\n",
      "  --extract-file EXTRACTFILE\r\n",
      "                        pncparse options for file\r\n",
      "  --extractmethod {nn,linear,cubic,quintic,KDTree}\r\n",
      "                        Method for extraction\r\n",
      "  --op-typ OPERATORS    Operator for binary file operations.\r\n",
      "                        Binary file operations use the first\r\n",
      "                        two files, then the result and the\r\n",
      "                        next file, etc. Use // or <= or % or\r\n",
      "                        is not or >> or & or == or != or + or\r\n",
      "                        * or - or / or < or >= or ** or > or\r\n",
      "                        << or | or is or ^\r\n",
      "  --expr EXPRESSIONS    Generic expressions to execute in the\r\n",
      "                        context of the file.\r\n",
      "  --exprscript EXPRESSIONSCRIPTS\r\n",
      "                        Generic expressions to execute in the\r\n",
      "                        context of the file.\r\n",
      "\r\n",
      "Detailed Steps\r\n",
      "--------------\r\n",
      "\r\n",
      "PseudoNetCDF has many operations and the order often matters. The order is consistent with the order of options in the formatted help. The default order is summarized as:\r\n",
      "\r\n",
      "1. Open with specified reader (-f)\r\n",
      "2. Select subset of variables (-v)\r\n",
      "2. Add attributes (-a)\r\n",
      "4. Apply masks (--mask)\r\n",
      "5. Add conventions to support later operations (--to-convention, --from-convention)\r\n",
      "6. Combine files via stacking on dimensions (--stack)\r\n",
      "7. Slice dimensions (-s --slice)\r\n",
      "8. Reduce dimensions (-r --reduce)\r\n",
      "9. Convolve dimensions (-c)\r\n",
      "10. Extract specific coordinates (--extract)\r\n",
      "11. Remove singleton dimensions (--remove-singleton)\r\n",
      "12. Apply expressions (--expr then --exprscripts)\r\n",
      "13. Apply binary operators (--op_typ)\r\n",
      "\r\n",
      "To impose your own order, use standard options (global options) and then use -- to force positional interpretation of remaining options. In remaining options, use --sep to separate groups of files and options to be evaluated before any global operations.\r\n"
     ]
    }
   ],
   "source": [
    "!pncdump.py --help"
   ]
  },
  {
   "cell_type": "code",
   "execution_count": 4,
   "metadata": {
    "collapsed": false
   },
   "outputs": [
    {
     "name": "stdout",
     "output_type": "stream",
     "text": [
      "Traceback (most recent call last):\r\n",
      "  File \"/Users/barronh/Development/pseudonetcdf/src/PseudoNetCDF/pncparse.py\", line 408, in getfiles\r\n",
      "    f = allreaders[file_format](ipath, **format_options)\r\n",
      "  File \"netCDF4/_netCDF4.pyx\", line 1795, in netCDF4._netCDF4.Dataset.__init__ (netCDF4/_netCDF4.c:12271)\r\n",
      "RuntimeError: No such file or directory\r\n",
      "\r\n",
      "The above exception was the direct cause of the following exception:\r\n",
      "\r\n",
      "Traceback (most recent call last):\r\n",
      "  File \"/Users/barronh/Development/pseudonetcdf/scripts/pncdump.py\", line 3, in <module>\r\n",
      "    main()\r\n",
      "  File \"/Users/barronh/Development/pseudonetcdf/src/PseudoNetCDF/pncdump.py\", line 286, in main\r\n",
      "    ifiles, options = pncparse(has_ofile = False)\r\n",
      "  File \"/Users/barronh/Development/pseudonetcdf/src/PseudoNetCDF/pncparse.py\", line 303, in pncparse\r\n",
      "    ifiles.extend(pncprep(subarg)[0])\r\n",
      "  File \"/Users/barronh/Development/pseudonetcdf/src/PseudoNetCDF/pncparse.py\", line 359, in pncprep\r\n",
      "    fs = getfiles(ipaths, args)\r\n",
      "  File \"/Users/barronh/Development/pseudonetcdf/src/PseudoNetCDF/pncparse.py\", line 413, in getfiles\r\n",
      "    raise oute from e\r\n",
      "OSError: Unable to open path with netcdf(path, **{})\r\n",
      "\tpath=\"sdf\"\r\n",
      "\terror=\"No such file or directory\"\r\n"
     ]
    }
   ],
   "source": [
    "!pncdump.py sdf"
   ]
  },
  {
   "cell_type": "markdown",
   "metadata": {},
   "source": [
    "# Windows file association\n",
    "\n",
    "1. Do not make your own file associations.\n",
    "1. If you do, you may need to delete it (http://websistent.com/delete-file-association-windows-7/)\n",
    "1. If that still doesn't work, open a dos prompt.\n"
   ]
  },
  {
   "cell_type": "code",
   "execution_count": null,
   "metadata": {
    "collapsed": true
   },
   "outputs": [],
   "source": [
    "!assoc .py=Python.File\n",
    "!ftype Python.File=\"C:\\Users\\barronh\\Anaconda3\\python.exe\" \"%1\" %*"
   ]
  }
 ],
 "metadata": {
  "celltoolbar": "Slideshow",
  "kernelspec": {
   "display_name": "Python 3",
   "language": "python",
   "name": "python3"
  },
  "language_info": {
   "codemirror_mode": {
    "name": "ipython",
    "version": 3
   },
   "file_extension": ".py",
   "mimetype": "text/x-python",
   "name": "python",
   "nbconvert_exporter": "python",
   "pygments_lexer": "ipython3",
   "version": "3.5.1"
  }
 },
 "nbformat": 4,
 "nbformat_minor": 0
}
