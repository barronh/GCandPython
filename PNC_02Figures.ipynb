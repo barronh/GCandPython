{
 "cells": [
  {
   "cell_type": "code",
   "execution_count": 1,
   "metadata": {
    "collapsed": false,
    "slideshow": {
     "slide_type": "skip"
    }
   },
   "outputs": [
    {
     "data": {
      "text/plain": [
       "{'start_slideshow_at': 'selected', 'theme': 'simple', 'transition': 'convex'}"
      ]
     },
     "execution_count": 1,
     "metadata": {},
     "output_type": "execute_result"
    }
   ],
   "source": [
    "from notebook.services.config import ConfigManager\n",
    "cfm = ConfigManager()\n",
    "cfm.update('livereveal', {\n",
    "              'theme': 'simple',\n",
    "              'transition': 'convex',\n",
    "              'start_slideshow_at': 'selected'\n",
    "})"
   ]
  },
  {
   "cell_type": "markdown",
   "metadata": {},
   "source": [
    "# Python Analysis Figures\n",
    "Author: Barron H. Henderson"
   ]
  },
  {
   "cell_type": "code",
   "execution_count": 2,
   "metadata": {
    "collapsed": false,
    "slideshow": {
     "slide_type": "slide"
    }
   },
   "outputs": [
    {
     "name": "stdout",
     "output_type": "stream",
     "text": [
      "Populating the interactive namespace from numpy and matplotlib\n",
      "/Users/barronh/Downloads/GCandPython/working\n"
     ]
    }
   ],
   "source": [
    "# Prepare my slides\n",
    "%pylab inline\n",
    "%cd working"
   ]
  },
  {
   "cell_type": "markdown",
   "metadata": {
    "slideshow": {
     "slide_type": "slide"
    }
   },
   "source": [
    "# Data for Figures\n",
    "\n",
    "In this exercise, we will use publicly available data to create some pretty plots that combine GEOS-Chem results with observations from the DC8 aircraft on the DC3 campaign.\n",
    "\n",
    "In a minute, not yet, we are going to download the data."
   ]
  },
  {
   "cell_type": "markdown",
   "metadata": {
    "slideshow": {
     "slide_type": "subslide"
    }
   },
   "source": [
    "# Downloads DC3 Observations\n",
    "\n",
    "Download Merged Observations from DC8 aircraft during the DC3 campaign."
   ]
  },
  {
   "cell_type": "code",
   "execution_count": 3,
   "metadata": {
    "collapsed": false,
    "slideshow": {
     "slide_type": "fragment"
    }
   },
   "outputs": [
    {
     "name": "stdout",
     "output_type": "stream",
     "text": [
      "mkdir: cannot create directory ‘icartt’: File exists\n",
      "  % Total    % Received % Xferd  Average Speed   Time    Time     Time  Current\n",
      "                                 Dload  Upload   Total   Spent    Left  Speed\n",
      "100 30.5M  100 30.5M    0     0  1227k      0  0:00:25  0:00:25 --:--:-- 1327k\n"
     ]
    }
   ],
   "source": [
    "%mkdir icartt\n",
    "!curl -Lo icartt/dc3-mrg60-dc8_merge_20120518_R7_thru20120622.ict http://www-air.larc.nasa.gov/cgi-bin/enzFile?e38EE03EFAE02C04F06E9647DAF98F48D6A2f7075622d6169722f534541433452532d4443332f4d45524745532f315f4d494e5554452e4443385f4d52472f6463332d6d726736302d6463385f6d657267655f32303132303531385f52375f7468727532303132303632322e696374"
   ]
  },
  {
   "cell_type": "markdown",
   "metadata": {
    "slideshow": {
     "slide_type": "subslide"
    }
   },
   "source": [
    "# Download GEOS-Chem Benchmark\n",
    "\n",
    "Benchmark data is available from Harvard's website as below"
   ]
  },
  {
   "cell_type": "markdown",
   "metadata": {
    "collapsed": true,
    "slideshow": {
     "slide_type": "fragment"
    }
   },
   "source": [
    "```\n",
    "!curl -LO ftp.as.harvard.edu/gcgrid/geos-chem/1yr_benchmarks/v10-01/v10-01-public-release/Run0/tracerinfo.dat\n",
    "!curl -LO ftp.as.harvard.edu/gcgrid/geos-chem/1yr_benchmarks/v10-01/v10-01-public-release/Run0/diaginfo.dat\n",
    "!curl -LO ftp.as.harvard.edu/gcgrid/geos-chem/1yr_benchmarks/v10-01/v10-01-public-release/Run0/bpch.tar.gz\n",
    "```"
   ]
  },
  {
   "cell_type": "markdown",
   "metadata": {},
   "source": [
    "# Smaller, Faster Downloads\n",
    "\n"
   ]
  },
  {
   "cell_type": "code",
   "execution_count": 4,
   "metadata": {
    "collapsed": false
   },
   "outputs": [
    {
     "name": "stdout",
     "output_type": "stream",
     "text": [
      "  % Total    % Received % Xferd  Average Speed   Time    Time     Time  Current\n",
      "                                 Dload  Upload   Total   Spent    Left  Speed\n",
      "100 83324  100 83324    0     0  47062      0  0:00:01  0:00:01 --:--:-- 47102\n",
      "  % Total    % Received % Xferd  Average Speed   Time    Time     Time  Current\n",
      "                                 Dload  Upload   Total   Spent    Left  Speed\n",
      "100 13840  100 13840    0     0   8686      0  0:00:01  0:00:01 --:--:--  8704\n"
     ]
    }
   ],
   "source": [
    "!curl -LO ftp.as.harvard.edu/gcgrid/geos-chem/1yr_benchmarks/v10-01/v10-01-public-release/Run0/tracerinfo.dat\n",
    "!curl -LO ftp.as.harvard.edu/gcgrid/geos-chem/1yr_benchmarks/v10-01/v10-01-public-release/Run0/diaginfo.dat"
   ]
  },
  {
   "cell_type": "markdown",
   "metadata": {
    "collapsed": false
   },
   "source": [
    "```\n",
    "!curl -LO ftp://data.as.essie.ufl.edu/pub/exch/GCandPython/working/bpch.zip\n",
    "```"
   ]
  },
  {
   "cell_type": "code",
   "execution_count": 5,
   "metadata": {
    "collapsed": false
   },
   "outputs": [
    {
     "data": {
      "text/plain": [
       "'/Users/barronh/Downloads/GCandPython/working/bpch/ctm.bpch.v10-01-public-Run0.2013050100'"
      ]
     },
     "execution_count": 5,
     "metadata": {},
     "output_type": "execute_result"
    }
   ],
   "source": [
    "import zipfile\n",
    "zf = zipfile.ZipFile('bpch.zip')\n",
    "zf.extract('bpch/ctm.bpch.v10-01-public-Run0.2013050100')"
   ]
  },
  {
   "cell_type": "markdown",
   "metadata": {},
   "source": [
    "Unzip june too."
   ]
  },
  {
   "cell_type": "markdown",
   "metadata": {
    "slideshow": {
     "slide_type": "subslide"
    }
   },
   "source": [
    "# CHECK POINT:\n",
    "List the size of of the file you downloaded"
   ]
  },
  {
   "cell_type": "markdown",
   "metadata": {
    "slideshow": {
     "slide_type": "subslide"
    }
   },
   "source": [
    "# ANSWERS Hidden\n",
    "\n",
    "<div style=\"visibility: hidden\">\n",
    "ls -lh\n",
    "ls -lh icartt\n",
    "```\n",
    "296M bpch/ctm.bpch.v10-01-public-Run0.2013050100\n",
    "296M bpch/ctm.bpch.v10-01-public-Run0.2013060100\n",
    "31M icartt/dc3-mrg60-dc8_merge_20120518_R7_thru20120622.ict\n",
    "```\n",
    "</div>"
   ]
  },
  {
   "cell_type": "markdown",
   "metadata": {
    "slideshow": {
     "slide_type": "slide"
    }
   },
   "source": [
    "# Intro to the Common Data Model\n",
    "\n",
    "1. files and groups\n",
    "2. dimensions\n",
    "3. properties\n",
    "4. variables\n",
    "5. Conventions\n",
    "  * IOAPI and WRF-IOAPI\n",
    "  * COARDS\n",
    "  * Climate Forecasting (CF) Conventions\n",
    "6. Conceptualizing any data set as CDM"
   ]
  },
  {
   "cell_type": "markdown",
   "metadata": {
    "slideshow": {
     "slide_type": "subslide"
    }
   },
   "source": [
    "# pncdump returns the common data language\n",
    "\n",
    "```\n",
    "--header : don't show data\n",
    "-f ffi1001 : format is NASA AMES ffi1001\n",
    "-v VAR1,VAR2,...,VARN : only show these variables\n",
    "```\n",
    "\n",
    "For archiving, I am only dumping 3 variables. Try omitting -v"
   ]
  },
  {
   "cell_type": "code",
   "execution_count": 6,
   "metadata": {
    "collapsed": false,
    "scrolled": true,
    "slideshow": {
     "slide_type": "subslide"
    }
   },
   "outputs": [
    {
     "name": "stdout",
     "output_type": "stream",
     "text": [
      "PseudoNetCDF.core._files.PseudoNetCDFFile icartt/dc3-mrg60-dc8_merge_20120518_R7_thru20120622.ict {\r\n",
      "dimensions:\r\n",
      "        POINTS = 6817 ;\r\n",
      "\r\n",
      "variables:\r\n",
      "        double Fractional_Day(POINTS);\r\n",
      "                Fractional_Day:units = \"Fractional_Day, none\" ;\r\n",
      "                Fractional_Day:fill_value = -999999.0 ;\r\n",
      "                Fractional_Day:llod_value = \"N/A\" ;\r\n",
      "                Fractional_Day:scale = 1.0 ;\r\n",
      "                Fractional_Day:llod_flag = -888888 ;\r\n",
      "                Fractional_Day:standard_name = \"Fractional_Day\" ;\r\n",
      "                Fractional_Day:ulod_flag = -777777 ;\r\n",
      "                Fractional_Day:missing_value = -999999 ;\r\n",
      "                Fractional_Day:ulod_value = \"N/A\" ;\r\n",
      "        double O3_ESRL(POINTS);\r\n",
      "                O3_ESRL:units = \"ppbv\" ;\r\n",
      "                O3_ESRL:fill_value = -999999.0 ;\r\n",
      "                O3_ESRL:llod_value = \"N/A\" ;\r\n",
      "                O3_ESRL:scale = 1 ;\r\n",
      "                O3_ESRL:llod_flag = -888888 ;\r\n",
      "                O3_ESRL:standard_name = \"O3_ESRL\" ;\r\n",
      "                O3_ESRL:ulod_flag = -777777 ;\r\n",
      "                O3_ESRL:missing_value = -999999 ;\r\n",
      "                O3_ESRL:ulod_value = \"N/A\" ;\r\n",
      "        double UTC(POINTS);\r\n",
      "                UTC:units = \"s\" ;\r\n",
      "                UTC:fill_value = -999999.0 ;\r\n",
      "                UTC:llod_value = \"N/A\" ;\r\n",
      "                UTC:scale = 1 ;\r\n",
      "                UTC:llod_flag = -888888 ;\r\n",
      "                UTC:standard_name = \"UTC\" ;\r\n",
      "                UTC:ulod_flag = -777777 ;\r\n",
      "                UTC:missing_value = -999999 ;\r\n",
      "                UTC:ulod_value = \"N/A\" ;\r\n",
      "\r\n",
      "\r\n",
      "// global properties:\r\n",
      "                :fmt = \"1001\" ;\r\n",
      "                :n_header_lines = 409 ;\r\n",
      "                :PI_NAME = \"Shook, Michael\" ;\r\n",
      "                :ORGANIZATION_NAME = \"NASA Atmospheric Composition Branch, NASA Langley Research Center (SSAI)\" ;\r\n",
      "                :SOURCE_DESCRIPTION = \"Merged data file for DC3, Flights 01-18 (20120518-20120622), on the DC-8 platform. Data is merged to 60 seconds/timeline.\" ;\r\n",
      "                :MISSION_NAME = \"NSF DC3 Mission 2012\" ;\r\n",
      "                :VOLUME_INFO = \"1, 1\" ;\r\n",
      "                :SDATE = \"20120518\" ;\r\n",
      "                :WDATE = \"20160113\" ;\r\n",
      "                :TIME_INTERVAL = \"-1\" ;\r\n",
      "                :INDEPENDENT_VARIABLE = \"Fractional_Day, none\" ;\r\n",
      "                :PI_CONTACT_INFO = \"michael.shook@nasa.gov,jennifer.r.olson@nasa.gov,gao.chen@nasa.gov\" ;\r\n",
      "                :PLATFORM = \"NASA Dryden DC-8 Aircraft\" ;\r\n",
      "                :LOCATION = \"Latitude, Longitude, and Altitude included in data records\" ;\r\n",
      "                :ASSOCIATED_DATA = \"N/A\" ;\r\n",
      "                :INSTRUMENT_INFO = \"N/A\" ;\r\n",
      "                :DATA_INFO = \"Please see PI data file for explanation of ULOD and LLOD.\" ;\r\n",
      "                :UNCERTAINTY = \"See individual files for uncertainty information.\" ;\r\n",
      "                :ULOD_FLAG = \"-777777\" ;\r\n",
      "                :ULOD_VALUE = \"N/A\" ;\r\n",
      "                :LLOD_FLAG = \"-888888\" ;\r\n",
      "                :LLOD_VALUE = \"N/A\" ;\r\n",
      "                :DM_CONTACT_INFO = \"gao.chen@nasa.gov\" ;\r\n",
      "                :PROJECT_INFO = \"N/A\" ;\r\n",
      "                :STIPULATIONS_ON_USE = \"N/A\" ;\r\n",
      "                :OTHER_COMMENTS = \"This merge was created using data in the NASA DC3 archive\" ;\r\n",
      "                :as of 01/12/2016. = \"as of 01/12/2016.\" ;\r\n",
      "                :In most cases, variable names have been kept identical = \"In most cases, variable names have been kept identical\" ;\r\n",
      "                :to those submitted in the raw data files. = \"to those submitted in the raw data files.\" ;\r\n",
      "                :However, in some cases, names have been changed = \"However, in some cases, names have been changed\" ;\r\n",
      "                :(e.g., to eliminate duplication) = \"(e.g., to eliminate duplication)\" ;\r\n",
      "                :Units have been standardized throughout the merge. = \"Units have been standardized throughout the merge.\" ;\r\n",
      "                :Contact michael.shook@nasa.gov with any questions as to which data was included. = \"Contact michael.shook@nasa.gov with any questions as to which data was included.\" ;\r\n",
      "                :REVISION = \"R7\" ;\r\n",
      "                :R7 = \"Includes data submitted as of 01/12/2016. See the readme file for a more detailed changelog.\" ;\r\n",
      "                :R6 = \"Includes data submitted as of 05/19/2015.\" ;\r\n",
      "                :R5 = \"Includes data submitted as of 06/09/2014.\" ;\r\n",
      "                :R4 = \"Includes data submitted as of 03/03/2014.\" ;\r\n",
      "                :R3 = \"Includes data submitted as of 11/26/2013.\" ;\r\n",
      "                :R2 = \"Includes data submitted as of 11/25/2013.\" ;\r\n",
      "                :R1 = \"Includes data submitted as of 03/26/2013.\" ;\r\n",
      "                :R0 = \"Includes data submitted as of 02/05/2013.\" ;\r\n",
      "                :TFLAG = \"Fractional_Day\" ;\r\n",
      "                :history = \"/Users/barronh/Development/pseudonetcdf/scripts/pncdump.py --header -v Fractional_Day,UTC,O3_ESRL -f ffi1001 icartt/dc3-mrg60-dc8_merge_20120518_R7_thru20120622.ict;/Users/barronh/Development/pseudonetcdf/scripts/pncdump.py --header -v Fractional_Day,UTC,O3_ESRL -f ffi1001 icartt/dc3-mrg60-dc8_merge_20120518_R7_thru20120622.ict;\" ;\r\n",
      "}\r\n"
     ]
    }
   ],
   "source": [
    "!pncdump.py --header -v Fractional_Day,UTC,O3_ESRL -f ffi1001 icartt/dc3-mrg60-dc8_merge_20120518_R7_thru20120622.ict"
   ]
  },
  {
   "cell_type": "markdown",
   "metadata": {
    "collapsed": true,
    "slideshow": {
     "slide_type": "subslide"
    }
   },
   "source": [
    "# CHECK POINT\n",
    "\n",
    "1. List three attributes the IAS variable have (hint: use -v IAS)?\n",
    "\n",
    "    -\n",
    "    \n",
    "2. What are IAS units?\n",
    "\n",
    "    -\n",
    "    \n",
    "3. What attributes does the file have?\n",
    "\n",
    "    -\n",
    "     "
   ]
  },
  {
   "cell_type": "code",
   "execution_count": null,
   "metadata": {
    "collapsed": true,
    "slideshow": {
     "slide_type": "subslide"
    }
   },
   "outputs": [],
   "source": []
  },
  {
   "cell_type": "markdown",
   "metadata": {
    "slideshow": {
     "slide_type": "slide"
    }
   },
   "source": [
    "# Common Processing and Terminology\n",
    "\n",
    "This section will explain many of the techniques used in the tile plot section and in all subsequent sections.\n",
    "\n",
    "1. slicing in numpy\n",
    "2. dimensional reductions\n",
    "3. Loading data from different formats\n",
    "  * CMAQ (already done)\n",
    "  * CAMx, WRF, GEOS-Chem, CSV, NASA AMES, AQS\n",
    "4. Adding coordinate variables\n",
    "5. Using named dimensions via PseudoNetCDF\n",
    "6. Adding derived variables via PseudoNetCDF"
   ]
  },
  {
   "cell_type": "markdown",
   "metadata": {
    "slideshow": {
     "slide_type": "slide"
    }
   },
   "source": [
    "## Time series\n",
    "\n",
    "Make time series plots with 3 different methods from CMAQ data.\n",
    "\n",
    "1. Python Environment\n",
    "2. Python with PseudoNetCDF\n",
    "3. Command Line Interface (terminal or DOS)\n",
    "4. Advanced users will add observations\n",
    "5. Advanced users will add another species on a secondary axis\n",
    "6. Advanced users will repeat with CAMx or GEOS-Chem"
   ]
  },
  {
   "cell_type": "markdown",
   "metadata": {
    "slideshow": {
     "slide_type": "subslide"
    }
   },
   "source": [
    "# Python Environment\n",
    "\n",
    "1. Start easy with a 2-d line plot\n",
    "2. Add real data\n",
    "3. Transform data to time."
   ]
  },
  {
   "cell_type": "code",
   "execution_count": 7,
   "metadata": {
    "collapsed": false,
    "slideshow": {
     "slide_type": "-"
    }
   },
   "outputs": [
    {
     "data": {
      "text/plain": [
       "<matplotlib.legend.Legend at 0x10f14cc88>"
      ]
     },
     "execution_count": 7,
     "metadata": {},
     "output_type": "execute_result"
    },
    {
     "data": {
      "image/png": "[encoded data removed]",
      "text/plain": [
       "<matplotlib.figure.Figure at 0x10cd104a8>"
      ]
     },
     "metadata": {},
     "output_type": "display_data"
    }
   ],
   "source": [
    "close()\n",
    "plot([0,10], [0,10], linestyle = '-', color = 'g', label = '1:1')\n",
    "plot([0,5], [0,10], linestyle = '-', color = 'r', label = '2:1')\n",
    "plot([0,10], [0,5], linestyle = '-', color = 'b', label = '1:2')\n",
    "legend()\n",
    "#savefig('temp.png')"
   ]
  },
  {
   "cell_type": "code",
   "execution_count": null,
   "metadata": {
    "collapsed": true
   },
   "outputs": [],
   "source": []
  },
  {
   "cell_type": "markdown",
   "metadata": {
    "slideshow": {
     "slide_type": "subslide"
    }
   },
   "source": [
    "# Python with real data"
   ]
  },
  {
   "cell_type": "code",
   "execution_count": 8,
   "metadata": {
    "collapsed": false,
    "slideshow": {
     "slide_type": "-"
    }
   },
   "outputs": [
    {
     "data": {
      "image/png": "[encoded data removed]",
      "text/plain": [
       "<matplotlib.figure.Figure at 0x10f18cef0>"
      ]
     },
     "metadata": {},
     "output_type": "display_data"
    }
   ],
   "source": [
    "from PseudoNetCDF import PNC\n",
    "args = PNC('--format=ffi1001', \\\n",
    "           'icartt/dc3-mrg60-dc8_merge_20120518_R7_thru20120622.ict')\n",
    "infile = args.ifiles[0]\n",
    "fdays = infile.variables['Fractional_Day']\n",
    "o3 = infile.variables['O3_ESRL']\n",
    "close()\n",
    "plot(fdays, o3)\n",
    "xlabel('Fractional Day')\n",
    "ylabel('Ozone ' + o3.units)\n",
    "?tick_params"
   ]
  },
  {
   "cell_type": "markdown",
   "metadata": {
    "slideshow": {
     "slide_type": "subslide"
    }
   },
   "source": [
    "# Python with date"
   ]
  },
  {
   "cell_type": "code",
   "execution_count": 9,
   "metadata": {
    "collapsed": false,
    "slideshow": {
     "slide_type": "-"
    }
   },
   "outputs": [
    {
     "data": {
      "image/png": "[encoded data removed]",
      "text/plain": [
       "<matplotlib.figure.Figure at 0x1139ae588>"
      ]
     },
     "metadata": {},
     "output_type": "display_data"
    }
   ],
   "source": [
    "import datetime\n",
    "from PseudoNetCDF import PNC\n",
    "args = PNC('--format=ffi1001', 'icartt/dc3-mrg60-dc8_merge_20120518_R7_thru20120622.ict')\n",
    "infile = args.ifiles[0]\n",
    "fdays = infile.variables['Fractional_Day']\n",
    "o3 = infile.variables['O3_ESRL']\n",
    "offset = datetime.datetime(2011, 12, 31).timestamp()\n",
    "xdate = [datetime.datetime.utcfromtimestamp(offset + fday * 24*3600) \\\n",
    "         for fday in fdays]\n",
    "plot(xdate, o3);"
   ]
  },
  {
   "cell_type": "markdown",
   "metadata": {
    "slideshow": {
     "slide_type": "subslide"
    }
   },
   "source": [
    "# Python with pretty date"
   ]
  },
  {
   "cell_type": "code",
   "execution_count": 10,
   "metadata": {
    "collapsed": false,
    "slideshow": {
     "slide_type": "-"
    }
   },
   "outputs": [
    {
     "data": {
      "image/png": "[encoded data removed]",
      "text/plain": [
       "<matplotlib.figure.Figure at 0x128712cf8>"
      ]
     },
     "metadata": {},
     "output_type": "display_data"
    }
   ],
   "source": [
    "import datetime\n",
    "from PseudoNetCDF import PNC\n",
    "args = PNC('--format=ffi1001', 'icartt/dc3-mrg60-dc8_merge_20120518_R7_thru20120622.ict')\n",
    "infile = args.ifiles[0]\n",
    "fdays = infile.variables['Fractional_Day']\n",
    "o3 = infile.variables['O3_ESRL']\n",
    "offset = datetime.datetime(2011, 12, 31).timestamp()\n",
    "xdate = [datetime.datetime.utcfromtimestamp(offset + fday * 24*3600) \\\n",
    "         for fday in fdays]\n",
    "figure(figsize = (16, 4))\n",
    "tick_params(axis = 'both', labelsize = 20, )\n",
    "plot(xdate, o3)\n",
    "ax = plt.gca()\n",
    "ax.xaxis.set_major_formatter(plt.matplotlib.dates.DateFormatter('%m/%d'))\n",
    "ax.xaxis.set_major_locator(plt.matplotlib.dates.DayLocator(\\\n",
    "                                    bymonthday = [1, 5, 10, 15, 20, 25]))\n",
    "plt.setp(ax.get_xticklabels(), rotation = 45);"
   ]
  },
  {
   "cell_type": "markdown",
   "metadata": {
    "slideshow": {
     "slide_type": "subslide"
    }
   },
   "source": [
    "# Timeseries using PNC\n",
    "\n",
    "Your goal: Make a time series plot like the one above using the command line."
   ]
  },
  {
   "cell_type": "markdown",
   "metadata": {},
   "source": [
    "![](working/tsoneO3_ESRL.png)"
   ]
  },
  {
   "cell_type": "code",
   "execution_count": 11,
   "metadata": {
    "collapsed": false
   },
   "outputs": [
    {
     "name": "stdout",
     "output_type": "stream",
     "text": [
      "**PNC://anaconda/lib/python3.5/site-packages/matplotlib/axes/_axes.py:519:UserWarning:\n",
      "  No labelled objects found. Use label='...' kwarg on individual plots.\n",
      "dc3tsO3_ESRL.png\n"
     ]
    }
   ],
   "source": [
    "!pncts.py \\\n",
    "    --matplotlibrc=\"figure.figsize=16,6\"\\\n",
    "    --format=ffi1001 -v O3_ESRL --coordkeys Fractional_Day \\\n",
    "    --expr \"time=Fractional_Day\" \\\n",
    "    --expr \"time.units='days since 2011-12-31'\"\\\n",
    "    icartt/dc3-mrg60-dc8_merge_20120518_R7_thru20120622.ict dc3ts"
   ]
  },
  {
   "cell_type": "code",
   "execution_count": 12,
   "metadata": {
    "collapsed": false,
    "scrolled": true,
    "slideshow": {
     "slide_type": "-"
    }
   },
   "outputs": [
    {
     "name": "stdout",
     "output_type": "stream",
     "text": [
      "dc3tsO3_ESRL.png\r\n"
     ]
    }
   ],
   "source": [
    "%ls dc3ts*"
   ]
  },
  {
   "cell_type": "markdown",
   "metadata": {
    "slideshow": {
     "slide_type": "subslide"
    }
   },
   "source": [
    "## Scatter Plots\n",
    "\n",
    "1. Python Environment (replace plot with scatter, utc with some other variable)\n",
    "2. Python with PseudoNetCDF\n",
    "3. Command Line Interface (terminal or DOS) (replace pncts.py with pncscatter.py)\n",
    "4. Advanced users will switch from time/space paired to rank paired"
   ]
  },
  {
   "cell_type": "markdown",
   "metadata": {
    "slideshow": {
     "slide_type": "slide"
    }
   },
   "source": [
    "# Tile Plots\n",
    "\n",
    "Make tile plots of ozone with 3 different methods from CMAQ data.\n",
    "\n",
    "1. Python Environment\n",
    "2. Python with PseudoNetCDF\n",
    "3. Command Line Interface (terminal or DOS)\n",
    "4. Advanced users will overlay observations\n",
    "5. Advanced users will repeat with CAMx or GEOS-Chem"
   ]
  },
  {
   "cell_type": "markdown",
   "metadata": {
    "slideshow": {
     "slide_type": "subslide"
    }
   },
   "source": [
    "# Python only"
   ]
  },
  {
   "cell_type": "code",
   "execution_count": 13,
   "metadata": {
    "collapsed": false
   },
   "outputs": [],
   "source": [
    "from PseudoNetCDF import PNC\n",
    "args = PNC(\"--format=bpch,vertgrid='GEOS-5-NATIVE',nogroup=('IJ-AVG-$',)\",\n",
    "           \"bpch/ctm.bpch.v10-01-public-Run0.2013050100\")\n",
    "infile = args.ifiles[0]\n",
    "latb = infile.variables['latitude_bounds']\n",
    "lonb = infile.variables['longitude_bounds']\n",
    "ozone = infile.variables['O3'][:, 0].mean(0)"
   ]
  },
  {
   "cell_type": "code",
   "execution_count": 14,
   "metadata": {
    "collapsed": false
   },
   "outputs": [],
   "source": [
    "lone = np.append(lonb[0,0], lonb[:, 1])\n",
    "late = np.append(latb[0,0], latb[:, 1])\n",
    "LON, LAT = np.meshgrid(lone, late)"
   ]
  },
  {
   "cell_type": "code",
   "execution_count": 15,
   "metadata": {
    "collapsed": false
   },
   "outputs": [
    {
     "data": {
      "image/png": "[encoded data removed]",
      "text/plain": [
       "<matplotlib.figure.Figure at 0x10ccf2cc0>"
      ]
     },
     "metadata": {},
     "output_type": "display_data"
    }
   ],
   "source": [
    "close()\n",
    "pcolor(LON, LAT, ozone, vmin = 20, vmax = 65)\n",
    "colorbar();"
   ]
  },
  {
   "cell_type": "markdown",
   "metadata": {
    "slideshow": {
     "slide_type": "subslide"
    }
   },
   "source": [
    "# With PNC Mapping"
   ]
  },
  {
   "cell_type": "code",
   "execution_count": 16,
   "metadata": {
    "collapsed": false
   },
   "outputs": [],
   "source": [
    "from PseudoNetCDF.coordutil import getmap\n",
    "m = getmap(infile, resolution = 'c')"
   ]
  },
  {
   "cell_type": "code",
   "execution_count": 17,
   "metadata": {
    "collapsed": false,
    "scrolled": false
   },
   "outputs": [
    {
     "data": {
      "image/png": "[encoded data removed]",
      "text/plain": [
       "<matplotlib.figure.Figure at 0x11958ba90>"
      ]
     },
     "metadata": {},
     "output_type": "display_data"
    }
   ],
   "source": [
    "rcParams['font.size'] = 18\n",
    "close()\n",
    "m.pcolor(LON, LAT, ozone, vmin = 20, vmax = 65)\n",
    "m.drawcoastlines()\n",
    "m.drawcountries()\n",
    "m.drawstates() # What options does this take?\n",
    "cb = plt.colorbar(orientation = 'horizontal', label = 'O$_3$ ppb')"
   ]
  },
  {
   "cell_type": "markdown",
   "metadata": {
    "slideshow": {
     "slide_type": "subslide"
    }
   },
   "source": [
    "# CLI PseudoNetCDF"
   ]
  },
  {
   "cell_type": "code",
   "execution_count": 18,
   "metadata": {
    "collapsed": false,
    "scrolled": true
   },
   "outputs": [
    {
     "name": "stdout",
     "output_type": "stream",
     "text": [
      "**PNC:/Users/barronh/Development/pseudonetcdf/src/PseudoNetCDF/geoschemfiles/_bpch.py:866:UserWarning:\n",
      "  vertgrid selected (GEOS-5-REDUCED) and output layers are not consistent; update to GEOS-5-NATIVE (e.g., bpch(..., vertgrid='GEOS-5-NATIVE') -f \"bpch,vertgrid='GEOS-5-NATIVE'\"\n",
      "srfmapO3.png\n"
     ]
    }
   ],
   "source": [
    "!pncmap.py -v O3 -f \"bpch,nogroup=('IJ-AVG-$',)\" \\\n",
    "-s layer72,0 -r time,mean --norm=\"Normalize(vmin=0,vmax=80)\" \\\n",
    "bpch/ctm.bpch.v10-01-public-Run0.2013050100 srfmap\n",
    "%ls srfmap*"
   ]
  },
  {
   "cell_type": "markdown",
   "metadata": {
    "slideshow": {
     "slide_type": "subslide"
    }
   },
   "source": [
    "![Simple Tile Plot](working/srfmapO3.png)"
   ]
  },
  {
   "cell_type": "markdown",
   "metadata": {
    "slideshow": {
     "slide_type": "slide"
    }
   },
   "source": [
    "# Overlay Observations and Model "
   ]
  },
  {
   "cell_type": "markdown",
   "metadata": {
    "slideshow": {
     "slide_type": "subslide"
    }
   },
   "source": [
    "# Find the range of space and time covered by the observations.\n",
    "\n",
    "This is our first look at observations from the Common Data Model perspective. Remember: dimensions, properties, and variables (which have dimensions and properties)."
   ]
  },
  {
   "cell_type": "markdown",
   "metadata": {
    "slideshow": {
     "slide_type": "subslide"
    }
   },
   "source": [
    "# Make a map with just GEOS-Chem\n",
    "\n",
    "pncmap.py is the primary map maker. Like all other pnc commands, it uses options that can be reviewed with --help. It shares all the same slicing, aggregating functions, but it also has a few options that are not included else where.\n",
    "\n",
    "$ pncmap.py --help\n",
    "\n",
    "Review the following options\n",
    "\n",
    "- --matplotlibrc\n",
    "- --figure-keywords\n",
    "- --axes-keywords\n",
    "- --plot-commands\n",
    "- --figformat\n",
    "- --norm\n",
    "- --colorbar-formatter\n",
    "- --overlay\n",
    "- --resolution\n",
    "- --no-countries, --states, --counties\n",
    "- --shapefile\n",
    "- --no-squeeze\n",
    "- --iter"
   ]
  },
  {
   "cell_type": "markdown",
   "metadata": {},
   "source": [
    "## Start by plotting the whole world for ozone at the 500 hPa\n",
    "\n",
    "What layer is approximately 500 hPa?"
   ]
  },
  {
   "cell_type": "code",
   "execution_count": 19,
   "metadata": {
    "collapsed": false,
    "slideshow": {
     "slide_type": "-"
    }
   },
   "outputs": [
    {
     "name": "stdout",
     "output_type": "stream",
     "text": [
      "**PNC:/Users/barronh/Development/pseudonetcdf/src/PseudoNetCDF/geoschemfiles/_bpch.py:866:UserWarning:\r\n",
      "  vertgrid selected (GEOS-5-REDUCED) and output layers are not consistent; update to GEOS-5-NATIVE (e.g., bpch(..., vertgrid='GEOS-5-NATIVE') -f \"bpch,vertgrid='GEOS-5-NATIVE'\"\r\n",
      "PseudoNetCDF.core._files.PseudoNetCDFFile bpch/ctm.bpch.v10-01-public-Run0.2013050100 {\r\n",
      "dimensions:\r\n",
      "        layer = 47 ;\r\n",
      "        layer_bounds = 48 ;\r\n",
      "        longitude = 72 ;\r\n",
      "        latitude = 46 ;\r\n",
      "        time = UNLIMITED // (1 currently) \r\n",
      "        nv = 2 ;\r\n",
      "        tnv = 2 ;\r\n",
      "\r\n",
      "variables:\r\n",
      "        double etam_pressure(layer);\r\n",
      "                etam_pressure:units = \"hPa\" ;\r\n",
      "                etam_pressure:standard_name = \"atmosphere_hybrid_sigma_pressure_coordinate\" ;\r\n",
      "                etam_pressure:base_units = \"hPa\" ;\r\n",
      "                etam_pressure:var_desc = \"etam_pressure\" ;\r\n",
      "                etam_pressure:long_name = \"etam_pressure\" ;\r\n",
      "        float layer_bounds(layer_bounds);\r\n",
      "                layer_bounds:units = \"level\" ;\r\n",
      "                layer_bounds:standard_name = \"hybrid_sigma_pressure\" ;\r\n",
      "                layer_bounds:positive = \"up\" ;\r\n",
      "                layer_bounds:long_name = \"hybrid level at layer midpoints\" ;\r\n",
      "        double longitude(longitude);\r\n",
      "                longitude:units = \"degrees_east\" ;\r\n",
      "                longitude:axis = \"X\" ;\r\n",
      "                longitude:standard_name = \"longitude\" ;\r\n",
      "                longitude:base_units = \"degrees_east\" ;\r\n",
      "                longitude:bounds = \"longitude_bounds\" ;\r\n",
      "                longitude:long_name = \"longitude\" ;\r\n",
      "        double etai_pressure(layer_bounds);\r\n",
      "                etai_pressure:units = \"hPa\" ;\r\n",
      "                etai_pressure:standard_name = \"atmosphere_hybrid_sigma_pressure_coordinate\" ;\r\n",
      "                etai_pressure:base_units = \"hPa\" ;\r\n",
      "                etai_pressure:var_desc = \"etai_pressure\" ;\r\n",
      "                etai_pressure:long_name = \"etai_pressure\" ;\r\n",
      "        float layer(layer);\r\n",
      "                layer:units = \"level\" ;\r\n",
      "                layer:standard_name = \"hybrid_sigma_pressure\" ;\r\n",
      "                layer:positive = \"up\" ;\r\n",
      "                layer:long_name = \"hybrid level at layer midpoints\" ;\r\n",
      "        double latitude(latitude);\r\n",
      "                latitude:units = \"degrees_north\" ;\r\n",
      "                latitude:axis = \"Y\" ;\r\n",
      "                latitude:standard_name = \"latitude\" ;\r\n",
      "                latitude:base_units = \"degrees_north\" ;\r\n",
      "                latitude:bounds = \"latitude_bounds\" ;\r\n",
      "                latitude:long_name = \"latitude\" ;\r\n",
      "        double time(time);\r\n",
      "                time:units = \"hours since 1985-01-01 00:00:00 UTC\" ;\r\n",
      "                time:standard_name = \"time\" ;\r\n",
      "                time:base_units = \"hours since 1985-01-01 00:00:00 UTC\" ;\r\n",
      "                time:bounds = \"time_bounds\" ;\r\n",
      "                time:var_desc = \"time\" ;\r\n",
      "                time:long_name = \"time\" ;\r\n",
      "        double longitude_bounds(longitude, nv);\r\n",
      "                longitude_bounds:units = \"degrees_east\" ;\r\n",
      "                longitude_bounds:axis = \"X\" ;\r\n",
      "                longitude_bounds:standard_name = \"longitude\" ;\r\n",
      "                longitude_bounds:base_units = \"degrees_east\" ;\r\n",
      "                longitude_bounds:long_name = \"longitude\" ;\r\n",
      "        double latitude_bounds(latitude, nv);\r\n",
      "                latitude_bounds:units = \"degrees_north\" ;\r\n",
      "                latitude_bounds:axis = \"Y\" ;\r\n",
      "                latitude_bounds:standard_name = \"latitude\" ;\r\n",
      "                latitude_bounds:base_units = \"degrees_north\" ;\r\n",
      "                latitude_bounds:long_name = \"latitude\" ;\r\n",
      "        double time_bounds(time, tnv);\r\n",
      "                time_bounds:units = \"hours since 1985-01-01 00:00:00 UTC\" ;\r\n",
      "                time_bounds:standard_name = \"time_bounds\" ;\r\n",
      "                time_bounds:base_units = \"hours since 1985-01-01 00:00:00 UTC\" ;\r\n",
      "                time_bounds:var_desc = \"time_bounds\" ;\r\n",
      "                time_bounds:long_name = \"time_bounds\" ;\r\n",
      "\r\n",
      "\r\n",
      "// global properties:\r\n",
      "                :noscale = False ;\r\n",
      "                :nogroup = False ;\r\n",
      "                :ftype = b\"CTM bin 02                              \" ;\r\n",
      "                :toptitle = b\"GEOS-CHEM binary punch file v. 2.0                                              \" ;\r\n",
      "                :modelname = b\"GEOSFP              \" ;\r\n",
      "                :modelres = array([ 5.,  4.], dtype=float32) ;\r\n",
      "                :halfpolar = 1 ;\r\n",
      "                :center180 = 1 ;\r\n",
      "                :start_tau0 = 248328.0 ;\r\n",
      "                :start_tau1 = 249072.0 ;\r\n",
      "                :vertgrid = \"GEOS-5-REDUCED\" ;\r\n",
      "                :Ap = array([  0.00000000e+00,   4.80482600e-02,   6.59375200e+00,\r\n",
      "         1.31348000e+01,   1.96131100e+01,   2.60920100e+01,\r\n",
      "         3.25708100e+01,   3.89820100e+01,   4.53390100e+01,\r\n",
      "         5.16961100e+01,   5.80532100e+01,   6.43626400e+01,\r\n",
      "         7.06219800e+01,   7.88342200e+01,   8.90999200e+01,\r\n",
      "         9.93652100e+01,   1.09181700e+02,   1.18958600e+02,\r\n",
      "         1.28695900e+02,   1.42910000e+02,   1.56260000e+02,\r\n",
      "         1.69609000e+02,   1.81619000e+02,   1.93097000e+02,\r\n",
      "         2.03259000e+02,   2.12150000e+02,   2.18776000e+02,\r\n",
      "         2.23898000e+02,   2.24363000e+02,   2.16865000e+02,\r\n",
      "         2.01192000e+02,   1.76930000e+02,   1.50393000e+02,\r\n",
      "         1.27837000e+02,   1.08663000e+02,   9.23657200e+01,\r\n",
      "         7.85123100e+01,   5.63879100e+01,   4.01754100e+01,\r\n",
      "         2.83678100e+01,   1.97916000e+01,   9.29294200e+00,\r\n",
      "         4.07657100e+00,   1.65079000e+00,   6.16779100e-01,\r\n",
      "         2.11349000e-01,   6.60000100e-02,   1.00000000e-02]) ;\r\n",
      "                :Bp = array([  1.00000000e+00,   9.84952000e-01,   9.63406000e-01,\r\n",
      "         9.41865000e-01,   9.20387000e-01,   8.98908000e-01,\r\n",
      "         8.77429000e-01,   8.56018000e-01,   8.34660900e-01,\r\n",
      "         8.13303900e-01,   7.91946900e-01,   7.70637500e-01,\r\n",
      "         7.49378200e-01,   7.21166000e-01,   6.85899900e-01,\r\n",
      "         6.50634900e-01,   6.15818400e-01,   5.81041500e-01,\r\n",
      "         5.46304200e-01,   4.94590200e-01,   4.43740200e-01,\r\n",
      "         3.92891100e-01,   3.43381100e-01,   2.94403100e-01,\r\n",
      "         2.46741100e-01,   2.00350100e-01,   1.56224100e-01,\r\n",
      "         1.13602100e-01,   6.37200600e-02,   2.80100400e-02,\r\n",
      "         6.96002500e-03,   8.17541300e-09,   0.00000000e+00,\r\n",
      "         0.00000000e+00,   0.00000000e+00,   0.00000000e+00,\r\n",
      "         0.00000000e+00,   0.00000000e+00,   0.00000000e+00,\r\n",
      "         0.00000000e+00,   0.00000000e+00,   0.00000000e+00,\r\n",
      "         0.00000000e+00,   0.00000000e+00,   0.00000000e+00,\r\n",
      "         0.00000000e+00,   0.00000000e+00,   0.00000000e+00]) ;\r\n",
      "                :Conventions = \"CF-1.6\" ;\r\n",
      "                :history = \"/Users/barronh/Development/pseudonetcdf/scripts/pncdump.py -v etam_pressure --full-indices c -f bpch bpch/ctm.bpch.v10-01-public-Run0.2013050100;/Users/barronh/Development/pseudonetcdf/scripts/pncdump.py -v etam_pressure --full-indices c -f bpch bpch/ctm.bpch.v10-01-public-Run0.2013050100;\" ;\r\n",
      "\r\n",
      "\r\n",
      "data:\r\n",
      " etam_pressure =\r\n",
      "  1005.65033113, // etam_pressure(0,) \r\n",
      "  990.40777188, // etam_pressure(1,) \r\n",
      "  975.1221963749999, // etam_pressure(2,) \r\n",
      "  959.8373744999999, // etam_pressure(3,) \r\n",
      "  944.5528893749999, // etam_pressure(4,) \r\n",
      "  929.268142625, // etam_pressure(5,) \r\n",
      "  913.9839963750001, // etam_pressure(6,) \r\n",
      "  898.7007077125, // etam_pressure(7,) \r\n",
      "  883.4177268, // etam_pressure(8,) \r\n",
      "  868.1348465499999, // etam_pressure(9,) \r\n",
      "  852.85224665, // etam_pressure(10,) \r\n",
      "  837.5702640125, // etam_pressure(11,) \r\n",
      "  819.742555325, // etam_pressure(12,) \r\n",
      "  796.8218315875001, // etam_pressure(13,) \r\n",
      "  771.3545080499999, // etam_pressure(14,) \r\n",
      "  745.8903581125001, // etam_pressure(15,) \r\n",
      "  720.4292968375, // etam_pressure(16,) \r\n",
      "  694.9687652625, // etam_pressure(17,) \r\n",
      "  663.1460754, // etam_pressure(18,) \r\n",
      "  624.9666388999999, // etam_pressure(19,) \r\n",
      "  586.7928323625, // etam_pressure(20,) \r\n",
      "  548.6279033249999, // etam_pressure(21,) \r\n",
      "  510.475420325, // etam_pressure(22,) \r\n",
      "  472.335180325, // etam_pressure(23,) \r\n",
      "  434.2120792, // etam_pressure(24,) \r\n",
      "  396.112404075, // etam_pressure(25,) \r\n",
      "  358.037698575, // etam_pressure(26,) \r\n",
      "  313.96633931, // etam_pressure(27,) \r\n",
      "  267.0867619125, // etam_pressure(28,) \r\n",
      "  226.745209180625, // etam_pressure(29,) \r\n",
      "  192.5871268074936, // etam_pressure(30,) \r\n",
      "  163.6615041418686, // etam_pressure(31,) \r\n",
      "  139.115, // etam_pressure(32,) \r\n",
      "  118.25, // etam_pressure(33,) \r\n",
      "  100.51436, // etam_pressure(34,) \r\n",
      "  85.439015, // etam_pressure(35,) \r\n",
      "  67.45011, // etam_pressure(36,) \r\n",
      "  48.28166, // etam_pressure(37,) \r\n",
      "  34.27161, // etam_pressure(38,) \r\n",
      "  24.079705, // etam_pressure(39,) \r\n",
      "  14.542271, // etam_pressure(40,) \r\n",
      "  6.684756500000001, // etam_pressure(41,) \r\n",
      "  2.8636805, // etam_pressure(42,) \r\n",
      "  1.13378455, // etam_pressure(43,) \r\n",
      "  0.41406405, // etam_pressure(44,) \r\n",
      "  0.138674505, // etam_pressure(45,) \r\n",
      "  0.038000005; // etam_pressure(46,) \r\n",
      " layer_bounds =\r\n",
      "  0, // layer_bounds(0,) \r\n",
      "  1, // layer_bounds(1,) \r\n",
      "  2, // layer_bounds(2,) \r\n",
      "  3, // layer_bounds(3,) \r\n",
      "  4, // layer_bounds(4,) \r\n",
      "  5, // layer_bounds(5,) \r\n",
      "  6, // layer_bounds(6,) \r\n",
      "  7, // layer_bounds(7,) \r\n",
      "  8, // layer_bounds(8,) \r\n",
      "  9, // layer_bounds(9,) \r\n",
      "  10, // layer_bounds(10,) \r\n",
      "  11, // layer_bounds(11,) \r\n",
      "  12, // layer_bounds(12,) \r\n",
      "  13, // layer_bounds(13,) \r\n",
      "  14, // layer_bounds(14,) \r\n",
      "  15, // layer_bounds(15,) \r\n",
      "  16, // layer_bounds(16,) \r\n",
      "  17, // layer_bounds(17,) \r\n",
      "  18, // layer_bounds(18,) \r\n",
      "  19, // layer_bounds(19,) \r\n",
      "  20, // layer_bounds(20,) \r\n",
      "  21, // layer_bounds(21,) \r\n",
      "  22, // layer_bounds(22,) \r\n",
      "  23, // layer_bounds(23,) \r\n",
      "  24, // layer_bounds(24,) \r\n",
      "  25, // layer_bounds(25,) \r\n",
      "  26, // layer_bounds(26,) \r\n",
      "  27, // layer_bounds(27,) \r\n",
      "  28, // layer_bounds(28,) \r\n",
      "  29, // layer_bounds(29,) \r\n",
      "  30, // layer_bounds(30,) \r\n",
      "  31, // layer_bounds(31,) \r\n",
      "  32, // layer_bounds(32,) \r\n",
      "  33, // layer_bounds(33,) \r\n",
      "  34, // layer_bounds(34,) \r\n",
      "  35, // layer_bounds(35,) \r\n",
      "  36, // layer_bounds(36,) \r\n",
      "  37, // layer_bounds(37,) \r\n",
      "  38, // layer_bounds(38,) \r\n",
      "  39, // layer_bounds(39,) \r\n",
      "  40, // layer_bounds(40,) \r\n",
      "  41, // layer_bounds(41,) \r\n",
      "  42, // layer_bounds(42,) \r\n",
      "  43, // layer_bounds(43,) \r\n",
      "  44, // layer_bounds(44,) \r\n",
      "  45, // layer_bounds(45,) \r\n",
      "  46, // layer_bounds(46,) \r\n",
      "  47; // layer_bounds(47,) \r\n",
      " longitude =\r\n",
      "  -180, // longitude(0,) \r\n",
      "  -175, // longitude(1,) \r\n",
      "  -170, // longitude(2,) \r\n",
      "  -165, // longitude(3,) \r\n",
      "  -160, // longitude(4,) \r\n",
      "  -155, // longitude(5,) \r\n",
      "  -150, // longitude(6,) \r\n",
      "  -145, // longitude(7,) \r\n",
      "  -140, // longitude(8,) \r\n",
      "  -135, // longitude(9,) \r\n",
      "  -130, // longitude(10,) \r\n",
      "  -125, // longitude(11,) \r\n",
      "  -120, // longitude(12,) \r\n",
      "  -115, // longitude(13,) \r\n",
      "  -110, // longitude(14,) \r\n",
      "  -105, // longitude(15,) \r\n",
      "  -100, // longitude(16,) \r\n",
      "  -95, // longitude(17,) \r\n",
      "  -90, // longitude(18,) \r\n",
      "  -85, // longitude(19,) \r\n",
      "  -80, // longitude(20,) \r\n",
      "  -75, // longitude(21,) \r\n",
      "  -70, // longitude(22,) \r\n",
      "  -65, // longitude(23,) \r\n",
      "  -60, // longitude(24,) \r\n",
      "  -55, // longitude(25,) \r\n",
      "  -50, // longitude(26,) \r\n",
      "  -45, // longitude(27,) \r\n",
      "  -40, // longitude(28,) \r\n",
      "  -35, // longitude(29,) \r\n",
      "  -30, // longitude(30,) \r\n",
      "  -25, // longitude(31,) \r\n",
      "  -20, // longitude(32,) \r\n",
      "  -15, // longitude(33,) \r\n",
      "  -10, // longitude(34,) \r\n",
      "  -5, // longitude(35,) \r\n",
      "  0, // longitude(36,) \r\n",
      "  5, // longitude(37,) \r\n",
      "  10, // longitude(38,) \r\n",
      "  15, // longitude(39,) \r\n",
      "  20, // longitude(40,) \r\n",
      "  25, // longitude(41,) \r\n",
      "  30, // longitude(42,) \r\n",
      "  35, // longitude(43,) \r\n",
      "  40, // longitude(44,) \r\n",
      "  45, // longitude(45,) \r\n",
      "  50, // longitude(46,) \r\n",
      "  55, // longitude(47,) \r\n",
      "  60, // longitude(48,) \r\n",
      "  65, // longitude(49,) \r\n",
      "  70, // longitude(50,) \r\n",
      "  75, // longitude(51,) \r\n",
      "  80, // longitude(52,) \r\n",
      "  85, // longitude(53,) \r\n",
      "  90, // longitude(54,) \r\n",
      "  95, // longitude(55,) \r\n",
      "  100, // longitude(56,) \r\n",
      "  105, // longitude(57,) \r\n",
      "  110, // longitude(58,) \r\n",
      "  115, // longitude(59,) \r\n",
      "  120, // longitude(60,) \r\n",
      "  125, // longitude(61,) \r\n",
      "  130, // longitude(62,) \r\n",
      "  135, // longitude(63,) \r\n",
      "  140, // longitude(64,) \r\n",
      "  145, // longitude(65,) \r\n",
      "  150, // longitude(66,) \r\n",
      "  155, // longitude(67,) \r\n",
      "  160, // longitude(68,) \r\n",
      "  165, // longitude(69,) \r\n",
      "  170, // longitude(70,) \r\n",
      "  175; // longitude(71,) \r\n",
      " etai_pressure =\r\n",
      "  1013.25, // etai_pressure(0,) \r\n",
      "  998.05066226, // etai_pressure(1,) \r\n",
      "  982.7648815, // etai_pressure(2,) \r\n",
      "  967.47951125, // etai_pressure(3,) \r\n",
      "  952.1952377499999, // etai_pressure(4,) \r\n",
      "  936.910541, // etai_pressure(5,) \r\n",
      "  921.62574425, // etai_pressure(6,) \r\n",
      "  906.3422484999999, // etai_pressure(7,) \r\n",
      "  891.0591669250001, // etai_pressure(8,) \r\n",
      "  875.7762866749999, // etai_pressure(9,) \r\n",
      "  860.493406425, // etai_pressure(10,) \r\n",
      "  845.2110868749999, // etai_pressure(11,) \r\n",
      "  829.92944115, // etai_pressure(12,) \r\n",
      "  809.5556694999999, // etai_pressure(13,) \r\n",
      "  784.087993675, // etai_pressure(14,) \r\n",
      "  758.6210224250001, // etai_pressure(15,) \r\n",
      "  733.1596938, // etai_pressure(16,) \r\n",
      "  707.6988998750001, // etai_pressure(17,) \r\n",
      "  682.23863065, // etai_pressure(18,) \r\n",
      "  644.0535201499999, // etai_pressure(19,) \r\n",
      "  605.87975765, // etai_pressure(20,) \r\n",
      "  567.705907075, // etai_pressure(21,) \r\n",
      "  529.549899575, // etai_pressure(22,) \r\n",
      "  491.400941075, // etai_pressure(23,) \r\n",
      "  453.269419575, // etai_pressure(24,) \r\n",
      "  415.154738825, // etai_pressure(25,) \r\n",
      "  377.070069325, // etai_pressure(26,) \r\n",
      "  339.005327825, // etai_pressure(27,) \r\n",
      "  288.927350795, // etai_pressure(28,) \r\n",
      "  245.24617303, // etai_pressure(29,) \r\n",
      "  208.24424533125, // etai_pressure(30,) \r\n",
      "  176.9300082837372, // etai_pressure(31,) \r\n",
      "  150.393, // etai_pressure(32,) \r\n",
      "  127.837, // etai_pressure(33,) \r\n",
      "  108.663, // etai_pressure(34,) \r\n",
      "  92.36572, // etai_pressure(35,) \r\n",
      "  78.51231, // etai_pressure(36,) \r\n",
      "  56.38791, // etai_pressure(37,) \r\n",
      "  40.17541, // etai_pressure(38,) \r\n",
      "  28.36781, // etai_pressure(39,) \r\n",
      "  19.7916, // etai_pressure(40,) \r\n",
      "  9.292942, // etai_pressure(41,) \r\n",
      "  4.076571, // etai_pressure(42,) \r\n",
      "  1.65079, // etai_pressure(43,) \r\n",
      "  0.6167791, // etai_pressure(44,) \r\n",
      "  0.211349, // etai_pressure(45,) \r\n",
      "  0.06600001, // etai_pressure(46,) \r\n",
      "  0.01; // etai_pressure(47,) \r\n",
      " layer =\r\n",
      "  1, // layer(0,) \r\n",
      "  2, // layer(1,) \r\n",
      "  3, // layer(2,) \r\n",
      "  4, // layer(3,) \r\n",
      "  5, // layer(4,) \r\n",
      "  6, // layer(5,) \r\n",
      "  7, // layer(6,) \r\n",
      "  8, // layer(7,) \r\n",
      "  9, // layer(8,) \r\n",
      "  10, // layer(9,) \r\n",
      "  11, // layer(10,) \r\n",
      "  12, // layer(11,) \r\n",
      "  13, // layer(12,) \r\n",
      "  14, // layer(13,) \r\n",
      "  15, // layer(14,) \r\n",
      "  16, // layer(15,) \r\n",
      "  17, // layer(16,) \r\n",
      "  18, // layer(17,) \r\n",
      "  19, // layer(18,) \r\n",
      "  20, // layer(19,) \r\n",
      "  21, // layer(20,) \r\n",
      "  22, // layer(21,) \r\n",
      "  23, // layer(22,) \r\n",
      "  24, // layer(23,) \r\n",
      "  25, // layer(24,) \r\n",
      "  26, // layer(25,) \r\n",
      "  27, // layer(26,) \r\n",
      "  28, // layer(27,) \r\n",
      "  29, // layer(28,) \r\n",
      "  30, // layer(29,) \r\n",
      "  31, // layer(30,) \r\n",
      "  32, // layer(31,) \r\n",
      "  33, // layer(32,) \r\n",
      "  34, // layer(33,) \r\n",
      "  35, // layer(34,) \r\n",
      "  36, // layer(35,) \r\n",
      "  37, // layer(36,) \r\n",
      "  38, // layer(37,) \r\n",
      "  39, // layer(38,) \r\n",
      "  40, // layer(39,) \r\n",
      "  41, // layer(40,) \r\n",
      "  42, // layer(41,) \r\n",
      "  43, // layer(42,) \r\n",
      "  44, // layer(43,) \r\n",
      "  45, // layer(44,) \r\n",
      "  46, // layer(45,) \r\n",
      "  47; // layer(46,) \r\n",
      " latitude =\r\n",
      "  -89, // latitude(0,) \r\n",
      "  -86, // latitude(1,) \r\n",
      "  -82, // latitude(2,) \r\n",
      "  -78, // latitude(3,) \r\n",
      "  -74, // latitude(4,) \r\n",
      "  -70, // latitude(5,) \r\n",
      "  -66, // latitude(6,) \r\n",
      "  -62, // latitude(7,) \r\n",
      "  -58, // latitude(8,) \r\n",
      "  -54, // latitude(9,) \r\n",
      "  -50, // latitude(10,) \r\n",
      "  -46, // latitude(11,) \r\n",
      "  -42, // latitude(12,) \r\n",
      "  -38, // latitude(13,) \r\n",
      "  -34, // latitude(14,) \r\n",
      "  -30, // latitude(15,) \r\n",
      "  -26, // latitude(16,) \r\n",
      "  -22, // latitude(17,) \r\n",
      "  -18, // latitude(18,) \r\n",
      "  -14, // latitude(19,) \r\n",
      "  -10, // latitude(20,) \r\n",
      "  -6, // latitude(21,) \r\n",
      "  -2, // latitude(22,) \r\n",
      "  2, // latitude(23,) \r\n",
      "  6, // latitude(24,) \r\n",
      "  10, // latitude(25,) \r\n",
      "  14, // latitude(26,) \r\n",
      "  18, // latitude(27,) \r\n",
      "  22, // latitude(28,) \r\n",
      "  26, // latitude(29,) \r\n",
      "  30, // latitude(30,) \r\n",
      "  34, // latitude(31,) \r\n",
      "  38, // latitude(32,) \r\n",
      "  42, // latitude(33,) \r\n",
      "  46, // latitude(34,) \r\n",
      "  50, // latitude(35,) \r\n",
      "  54, // latitude(36,) \r\n",
      "  58, // latitude(37,) \r\n",
      "  62, // latitude(38,) \r\n",
      "  66, // latitude(39,) \r\n",
      "  70, // latitude(40,) \r\n",
      "  74, // latitude(41,) \r\n",
      "  78, // latitude(42,) \r\n",
      "  82, // latitude(43,) \r\n",
      "  86, // latitude(44,) \r\n",
      "  89; // latitude(45,) \r\n",
      " time =\r\n",
      "  248700; // time(0,) \r\n",
      " longitude_bounds =\r\n",
      "  -182.5, // longitude_bounds(0, 0) \r\n",
      "  -177.5, // longitude_bounds(0, 1) \r\n",
      "  -177.5, // longitude_bounds(1, 0) \r\n",
      "  -172.5, // longitude_bounds(1, 1) \r\n",
      "  -172.5, // longitude_bounds(2, 0) \r\n",
      "  -167.5, // longitude_bounds(2, 1) \r\n",
      "  -167.5, // longitude_bounds(3, 0) \r\n",
      "  -162.5, // longitude_bounds(3, 1) \r\n",
      "  -162.5, // longitude_bounds(4, 0) \r\n",
      "  -157.5, // longitude_bounds(4, 1) \r\n",
      "  -157.5, // longitude_bounds(5, 0) \r\n",
      "  -152.5, // longitude_bounds(5, 1) \r\n",
      "  -152.5, // longitude_bounds(6, 0) \r\n",
      "  -147.5, // longitude_bounds(6, 1) \r\n",
      "  -147.5, // longitude_bounds(7, 0) \r\n",
      "  -142.5, // longitude_bounds(7, 1) \r\n",
      "  -142.5, // longitude_bounds(8, 0) \r\n",
      "  -137.5, // longitude_bounds(8, 1) \r\n",
      "  -137.5, // longitude_bounds(9, 0) \r\n",
      "  -132.5, // longitude_bounds(9, 1) \r\n",
      "  -132.5, // longitude_bounds(10, 0) \r\n",
      "  -127.5, // longitude_bounds(10, 1) \r\n",
      "  -127.5, // longitude_bounds(11, 0) \r\n",
      "  -122.5, // longitude_bounds(11, 1) \r\n",
      "  -122.5, // longitude_bounds(12, 0) \r\n",
      "  -117.5, // longitude_bounds(12, 1) \r\n",
      "  -117.5, // longitude_bounds(13, 0) \r\n",
      "  -112.5, // longitude_bounds(13, 1) \r\n",
      "  -112.5, // longitude_bounds(14, 0) \r\n",
      "  -107.5, // longitude_bounds(14, 1) \r\n",
      "  -107.5, // longitude_bounds(15, 0) \r\n",
      "  -102.5, // longitude_bounds(15, 1) \r\n",
      "  -102.5, // longitude_bounds(16, 0) \r\n",
      "  -97.5, // longitude_bounds(16, 1) \r\n",
      "  -97.5, // longitude_bounds(17, 0) \r\n",
      "  -92.5, // longitude_bounds(17, 1) \r\n",
      "  -92.5, // longitude_bounds(18, 0) \r\n",
      "  -87.5, // longitude_bounds(18, 1) \r\n",
      "  -87.5, // longitude_bounds(19, 0) \r\n",
      "  -82.5, // longitude_bounds(19, 1) \r\n",
      "  -82.5, // longitude_bounds(20, 0) \r\n",
      "  -77.5, // longitude_bounds(20, 1) \r\n",
      "  -77.5, // longitude_bounds(21, 0) \r\n",
      "  -72.5, // longitude_bounds(21, 1) \r\n",
      "  -72.5, // longitude_bounds(22, 0) \r\n",
      "  -67.5, // longitude_bounds(22, 1) \r\n",
      "  -67.5, // longitude_bounds(23, 0) \r\n",
      "  -62.5, // longitude_bounds(23, 1) \r\n",
      "  -62.5, // longitude_bounds(24, 0) \r\n",
      "  -57.5, // longitude_bounds(24, 1) \r\n",
      "  -57.5, // longitude_bounds(25, 0) \r\n",
      "  -52.5, // longitude_bounds(25, 1) \r\n",
      "  -52.5, // longitude_bounds(26, 0) \r\n",
      "  -47.5, // longitude_bounds(26, 1) \r\n",
      "  -47.5, // longitude_bounds(27, 0) \r\n",
      "  -42.5, // longitude_bounds(27, 1) \r\n",
      "  -42.5, // longitude_bounds(28, 0) \r\n",
      "  -37.5, // longitude_bounds(28, 1) \r\n",
      "  -37.5, // longitude_bounds(29, 0) \r\n",
      "  -32.5, // longitude_bounds(29, 1) \r\n",
      "  -32.5, // longitude_bounds(30, 0) \r\n",
      "  -27.5, // longitude_bounds(30, 1) \r\n",
      "  -27.5, // longitude_bounds(31, 0) \r\n",
      "  -22.5, // longitude_bounds(31, 1) \r\n",
      "  -22.5, // longitude_bounds(32, 0) \r\n",
      "  -17.5, // longitude_bounds(32, 1) \r\n",
      "  -17.5, // longitude_bounds(33, 0) \r\n",
      "  -12.5, // longitude_bounds(33, 1) \r\n",
      "  -12.5, // longitude_bounds(34, 0) \r\n",
      "  -7.5, // longitude_bounds(34, 1) \r\n",
      "  -7.5, // longitude_bounds(35, 0) \r\n",
      "  -2.5, // longitude_bounds(35, 1) \r\n",
      "  -2.5, // longitude_bounds(36, 0) \r\n",
      "  2.5, // longitude_bounds(36, 1) \r\n",
      "  2.5, // longitude_bounds(37, 0) \r\n",
      "  7.5, // longitude_bounds(37, 1) \r\n",
      "  7.5, // longitude_bounds(38, 0) \r\n",
      "  12.5, // longitude_bounds(38, 1) \r\n",
      "  12.5, // longitude_bounds(39, 0) \r\n",
      "  17.5, // longitude_bounds(39, 1) \r\n",
      "  17.5, // longitude_bounds(40, 0) \r\n",
      "  22.5, // longitude_bounds(40, 1) \r\n",
      "  22.5, // longitude_bounds(41, 0) \r\n",
      "  27.5, // longitude_bounds(41, 1) \r\n",
      "  27.5, // longitude_bounds(42, 0) \r\n",
      "  32.5, // longitude_bounds(42, 1) \r\n",
      "  32.5, // longitude_bounds(43, 0) \r\n",
      "  37.5, // longitude_bounds(43, 1) \r\n",
      "  37.5, // longitude_bounds(44, 0) \r\n",
      "  42.5, // longitude_bounds(44, 1) \r\n",
      "  42.5, // longitude_bounds(45, 0) \r\n",
      "  47.5, // longitude_bounds(45, 1) \r\n",
      "  47.5, // longitude_bounds(46, 0) \r\n",
      "  52.5, // longitude_bounds(46, 1) \r\n",
      "  52.5, // longitude_bounds(47, 0) \r\n",
      "  57.5, // longitude_bounds(47, 1) \r\n",
      "  57.5, // longitude_bounds(48, 0) \r\n",
      "  62.5, // longitude_bounds(48, 1) \r\n",
      "  62.5, // longitude_bounds(49, 0) \r\n",
      "  67.5, // longitude_bounds(49, 1) \r\n",
      "  67.5, // longitude_bounds(50, 0) \r\n",
      "  72.5, // longitude_bounds(50, 1) \r\n",
      "  72.5, // longitude_bounds(51, 0) \r\n",
      "  77.5, // longitude_bounds(51, 1) \r\n",
      "  77.5, // longitude_bounds(52, 0) \r\n",
      "  82.5, // longitude_bounds(52, 1) \r\n",
      "  82.5, // longitude_bounds(53, 0) \r\n",
      "  87.5, // longitude_bounds(53, 1) \r\n",
      "  87.5, // longitude_bounds(54, 0) \r\n",
      "  92.5, // longitude_bounds(54, 1) \r\n",
      "  92.5, // longitude_bounds(55, 0) \r\n",
      "  97.5, // longitude_bounds(55, 1) \r\n",
      "  97.5, // longitude_bounds(56, 0) \r\n",
      "  102.5, // longitude_bounds(56, 1) \r\n",
      "  102.5, // longitude_bounds(57, 0) \r\n",
      "  107.5, // longitude_bounds(57, 1) \r\n",
      "  107.5, // longitude_bounds(58, 0) \r\n",
      "  112.5, // longitude_bounds(58, 1) \r\n",
      "  112.5, // longitude_bounds(59, 0) \r\n",
      "  117.5, // longitude_bounds(59, 1) \r\n",
      "  117.5, // longitude_bounds(60, 0) \r\n",
      "  122.5, // longitude_bounds(60, 1) \r\n",
      "  122.5, // longitude_bounds(61, 0) \r\n",
      "  127.5, // longitude_bounds(61, 1) \r\n",
      "  127.5, // longitude_bounds(62, 0) \r\n",
      "  132.5, // longitude_bounds(62, 1) \r\n",
      "  132.5, // longitude_bounds(63, 0) \r\n",
      "  137.5, // longitude_bounds(63, 1) \r\n",
      "  137.5, // longitude_bounds(64, 0) \r\n",
      "  142.5, // longitude_bounds(64, 1) \r\n",
      "  142.5, // longitude_bounds(65, 0) \r\n",
      "  147.5, // longitude_bounds(65, 1) \r\n",
      "  147.5, // longitude_bounds(66, 0) \r\n",
      "  152.5, // longitude_bounds(66, 1) \r\n",
      "  152.5, // longitude_bounds(67, 0) \r\n",
      "  157.5, // longitude_bounds(67, 1) \r\n",
      "  157.5, // longitude_bounds(68, 0) \r\n",
      "  162.5, // longitude_bounds(68, 1) \r\n",
      "  162.5, // longitude_bounds(69, 0) \r\n",
      "  167.5, // longitude_bounds(69, 1) \r\n",
      "  167.5, // longitude_bounds(70, 0) \r\n",
      "  172.5, // longitude_bounds(70, 1) \r\n",
      "  172.5, // longitude_bounds(71, 0) \r\n",
      "  177.5; // longitude_bounds(71, 1) \r\n",
      " latitude_bounds =\r\n",
      "  -90, // latitude_bounds(0, 0) \r\n",
      "  -88, // latitude_bounds(0, 1) \r\n",
      "  -88, // latitude_bounds(1, 0) \r\n",
      "  -84, // latitude_bounds(1, 1) \r\n",
      "  -84, // latitude_bounds(2, 0) \r\n",
      "  -80, // latitude_bounds(2, 1) \r\n",
      "  -80, // latitude_bounds(3, 0) \r\n",
      "  -76, // latitude_bounds(3, 1) \r\n",
      "  -76, // latitude_bounds(4, 0) \r\n",
      "  -72, // latitude_bounds(4, 1) \r\n",
      "  -72, // latitude_bounds(5, 0) \r\n",
      "  -68, // latitude_bounds(5, 1) \r\n",
      "  -68, // latitude_bounds(6, 0) \r\n",
      "  -64, // latitude_bounds(6, 1) \r\n",
      "  -64, // latitude_bounds(7, 0) \r\n",
      "  -60, // latitude_bounds(7, 1) \r\n",
      "  -60, // latitude_bounds(8, 0) \r\n",
      "  -56, // latitude_bounds(8, 1) \r\n",
      "  -56, // latitude_bounds(9, 0) \r\n",
      "  -52, // latitude_bounds(9, 1) \r\n",
      "  -52, // latitude_bounds(10, 0) \r\n",
      "  -48, // latitude_bounds(10, 1) \r\n",
      "  -48, // latitude_bounds(11, 0) \r\n",
      "  -44, // latitude_bounds(11, 1) \r\n",
      "  -44, // latitude_bounds(12, 0) \r\n",
      "  -40, // latitude_bounds(12, 1) \r\n",
      "  -40, // latitude_bounds(13, 0) \r\n",
      "  -36, // latitude_bounds(13, 1) \r\n",
      "  -36, // latitude_bounds(14, 0) \r\n",
      "  -32, // latitude_bounds(14, 1) \r\n",
      "  -32, // latitude_bounds(15, 0) \r\n",
      "  -28, // latitude_bounds(15, 1) \r\n",
      "  -28, // latitude_bounds(16, 0) \r\n",
      "  -24, // latitude_bounds(16, 1) \r\n",
      "  -24, // latitude_bounds(17, 0) \r\n",
      "  -20, // latitude_bounds(17, 1) \r\n",
      "  -20, // latitude_bounds(18, 0) \r\n",
      "  -16, // latitude_bounds(18, 1) \r\n",
      "  -16, // latitude_bounds(19, 0) \r\n",
      "  -12, // latitude_bounds(19, 1) \r\n",
      "  -12, // latitude_bounds(20, 0) \r\n",
      "  -8, // latitude_bounds(20, 1) \r\n",
      "  -8, // latitude_bounds(21, 0) \r\n",
      "  -4, // latitude_bounds(21, 1) \r\n",
      "  -4, // latitude_bounds(22, 0) \r\n",
      "  0, // latitude_bounds(22, 1) \r\n",
      "  0, // latitude_bounds(23, 0) \r\n",
      "  4, // latitude_bounds(23, 1) \r\n",
      "  4, // latitude_bounds(24, 0) \r\n",
      "  8, // latitude_bounds(24, 1) \r\n",
      "  8, // latitude_bounds(25, 0) \r\n",
      "  12, // latitude_bounds(25, 1) \r\n",
      "  12, // latitude_bounds(26, 0) \r\n",
      "  16, // latitude_bounds(26, 1) \r\n",
      "  16, // latitude_bounds(27, 0) \r\n",
      "  20, // latitude_bounds(27, 1) \r\n",
      "  20, // latitude_bounds(28, 0) \r\n",
      "  24, // latitude_bounds(28, 1) \r\n",
      "  24, // latitude_bounds(29, 0) \r\n",
      "  28, // latitude_bounds(29, 1) \r\n",
      "  28, // latitude_bounds(30, 0) \r\n",
      "  32, // latitude_bounds(30, 1) \r\n",
      "  32, // latitude_bounds(31, 0) \r\n",
      "  36, // latitude_bounds(31, 1) \r\n",
      "  36, // latitude_bounds(32, 0) \r\n",
      "  40, // latitude_bounds(32, 1) \r\n",
      "  40, // latitude_bounds(33, 0) \r\n",
      "  44, // latitude_bounds(33, 1) \r\n",
      "  44, // latitude_bounds(34, 0) \r\n",
      "  48, // latitude_bounds(34, 1) \r\n",
      "  48, // latitude_bounds(35, 0) \r\n",
      "  52, // latitude_bounds(35, 1) \r\n",
      "  52, // latitude_bounds(36, 0) \r\n",
      "  56, // latitude_bounds(36, 1) \r\n",
      "  56, // latitude_bounds(37, 0) \r\n",
      "  60, // latitude_bounds(37, 1) \r\n",
      "  60, // latitude_bounds(38, 0) \r\n",
      "  64, // latitude_bounds(38, 1) \r\n",
      "  64, // latitude_bounds(39, 0) \r\n",
      "  68, // latitude_bounds(39, 1) \r\n",
      "  68, // latitude_bounds(40, 0) \r\n",
      "  72, // latitude_bounds(40, 1) \r\n",
      "  72, // latitude_bounds(41, 0) \r\n",
      "  76, // latitude_bounds(41, 1) \r\n",
      "  76, // latitude_bounds(42, 0) \r\n",
      "  80, // latitude_bounds(42, 1) \r\n",
      "  80, // latitude_bounds(43, 0) \r\n",
      "  84, // latitude_bounds(43, 1) \r\n",
      "  84, // latitude_bounds(44, 0) \r\n",
      "  88, // latitude_bounds(44, 1) \r\n",
      "  88, // latitude_bounds(45, 0) \r\n",
      "  90; // latitude_bounds(45, 1) \r\n",
      " time_bounds =\r\n",
      "  248328, // time_bounds(0, 0) \r\n",
      "  249072; // time_bounds(0, 1) \r\n",
      "}\r\n"
     ]
    }
   ],
   "source": [
    "!pncdump.py -v etam_pressure --full-indices c -f bpch bpch/ctm.bpch.v10-01-public-Run0.2013050100"
   ]
  },
  {
   "cell_type": "markdown",
   "metadata": {
    "slideshow": {
     "slide_type": "subslide"
    }
   },
   "source": [
    "### Fill in the options below to plot May ozone at the surface"
   ]
  },
  {
   "cell_type": "code",
   "execution_count": 26,
   "metadata": {
    "collapsed": false,
    "slideshow": {
     "slide_type": "subslide"
    }
   },
   "outputs": [
    {
     "name": "stdout",
     "output_type": "stream",
     "text": [
      "**PNC:/Users/barronh/Development/pseudonetcdf/src/PseudoNetCDF/geoschemfiles/_bpch.py:866:UserWarning:\n",
      "  vertgrid selected (GEOS-5-REDUCED) and output layers are not consistent; update to GEOS-5-NATIVE (e.g., bpch(..., vertgrid='GEOS-5-NATIVE') -f \"bpch,vertgrid='GEOS-5-NATIVE'\"\n",
      "**PNC:/Users/barronh/Development/pseudonetcdf/src/PseudoNetCDF/plotutil/pncmap.py:85:UserWarning:\n",
      "  Autoselect deciles colormap of O3; override width --norm\n"
     ]
    }
   ],
   "source": [
    "!pncmap.py -f \"bpch,nogroup=('IJ-AVG-\\$',)\" -v O3 -s layer72,? \\\n",
    "    bpch/ctm.bpch.v10-01-public-Run0.2013050100 map500hPa_"
   ]
  },
  {
   "cell_type": "markdown",
   "metadata": {},
   "source": [
    "![](working/map500hPa_O3.png)"
   ]
  },
  {
   "cell_type": "markdown",
   "metadata": {
    "slideshow": {
     "slide_type": "subslide"
    }
   },
   "source": [
    "#### CHECK POINT:\n",
    "\n",
    "- What warning do you get? How can you solve it?\n",
    "- What was the file name of the saved figure? (hint: use the --verbose option)\n",
    "- How could you change the pncmap.py call so that the VARNAME was just O3 and the output had just O3 in the label."
   ]
  },
  {
   "cell_type": "markdown",
   "metadata": {
    "slideshow": {
     "slide_type": "subslide"
    }
   },
   "source": [
    "### Plot the average May/June value\n",
    "\n",
    "- What does the --stack option do?\n",
    "- How could you combine it with the  -r option to plot the average ozone in May and June?\n",
    "\n",
    "*Note: the -f options are broadcast to both the May and June files. If they were different format (e.g., GEOS-Chem and ICARTT), we would need to treat them separately."
   ]
  },
  {
   "cell_type": "markdown",
   "metadata": {
    "slideshow": {
     "slide_type": "subslide"
    }
   },
   "source": [
    "# Make a Map with just DC3 Observations\n",
    "\n",
    "Hint: pncmap.py expects latitude and longitude (case sensitive). You can use --expr or --rename to fix the case and --coordkeys to ensure these variables are not plotted and immune to -v.\n",
    "\n",
    "# Combining PNC commands\n",
    "\n",
    "Notice that the commands necessary to open ICARTT (ffi1001) and GEOS-Chem (bpch) files were different. We can separate commands and apply them only to one file using the --pnc option. Make notes below about the pnc option:\n",
    "\n",
    "## Now use one command to make both maps.\n",
    "\n",
    "* Hint 1: Rename O3_ESRL to O3\n",
    "* Hint 2: Escaping quotes is important\n",
    "* Hint 3: Use --expr to redefine DC2 longitude on -182.5, 177.5 use np.where"
   ]
  },
  {
   "cell_type": "markdown",
   "metadata": {
    "slideshow": {
     "slide_type": "subslide"
    }
   },
   "source": [
    "# ANSWERS Hidden\n",
    "\n",
    "<div style=\"visibility: hidden\">\n",
    "\n",
    "```\n",
    "pncmap.py --norm=\"Normalize(0, 100)\" -v O3 \\\n",
    "--pnc \" -f bpch,nogroup=(\\'IJ-AVG-$\\',),vertgrid=\\'GEOS-5-NATIVE\\' \\\n",
    "--stack=time -r time,mean -s layer72,22 -v O3 \\\n",
    "bpch/ctm.bpch.v10-01-public-Run0.2013050100 bpch/ctm.bpch.v10-01-public-Run0.2013060100\" \\\n",
    "--pnc \" -f ffi1001 --rename v,O3_ESRL,O3 --expr=\\\"latitude=LATITUDE;longitude=np.where(LONGITUDE>180,LONGITUDE-360,LONGITUDE)\\\" icartt/dc3-mrg60-dc8_merge_20120518_R7_thru20120622.ict\" \\\n",
    "map\n",
    "```\n",
    "\n",
    "</div>"
   ]
  },
  {
   "cell_type": "markdown",
   "metadata": {
    "slideshow": {
     "slide_type": "subslide"
    }
   },
   "source": [
    "## Now lets make this map better!\n",
    "\n",
    "- Focus in on the observations region\n",
    "- Mask all observations that are not within the model layer pressures\n",
    "- Add a title"
   ]
  },
  {
   "cell_type": "markdown",
   "metadata": {
    "slideshow": {
     "slide_type": "subslide"
    }
   },
   "source": [
    "# ANSWERS Hidden\n",
    "\n",
    "<div style=\"visibility: hidden\">\n",
    "```\n",
    "--overlay\" option\n",
    "--mask \"where,PRESSURE&gt;515.7865\" \n",
    "--mask \"where,PRESSURE&lt;479.60059\"\n",
    "--axes-keywords \"title='one'\"\n",
    "--plot-commands \"plt.title('one')\"\n",
    "```\n",
    "</div> "
   ]
  },
  {
   "cell_type": "markdown",
   "metadata": {},
   "source": [
    "# First make NetCDF copies of your results"
   ]
  },
  {
   "cell_type": "code",
   "execution_count": 27,
   "metadata": {
    "collapsed": false
   },
   "outputs": [
    {
     "name": "stdout",
     "output_type": "stream",
     "text": [
      "**PNC:/Users/barronh/Development/pseudonetcdf/src/PseudoNetCDF/pncgen.py:78:UserWarning:\r\n",
      "  Could not add as of 01/12/2016. to file; <class 'AttributeError'>: NetCDF: Name contains illegal characters\r\n",
      "**PNC:/Users/barronh/Development/pseudonetcdf/src/PseudoNetCDF/pncgen.py:78:UserWarning:\r\n",
      "  Could not add (e.g., to eliminate duplication) to file; <class 'AttributeError'>: NetCDF: Name contains illegal characters\r\n"
     ]
    }
   ],
   "source": [
    "!pncgen.py -O -f ffi1001 \\\n",
    "            --mask \"where,PRESSURE>515.7865\" \\\n",
    "            --mask \"where,PRESSURE<479.60059\" \\\n",
    "            --rename v,O3_ESRL,O3 --rename v,LATITUDE,latitude \\\n",
    "            -v Fractional_Day,O3_ESRL,LATITUDE,LONGITUDE,PRESSURE \\\n",
    "            --expr \"longitude=np.where(LONGITUDE>180,LONGITUDE-360,LONGITUDE)\" \\\n",
    "            --expr \"time=Fractional_Day*24*3600\" \\\n",
    "            --expr \"time.units='seconds since 2011-12-31'\" \\\n",
    "            icartt/dc3-mrg60-dc8_merge_20120518_R7_thru20120622.ict dc3.nc"
   ]
  },
  {
   "cell_type": "code",
   "execution_count": 28,
   "metadata": {
    "collapsed": false
   },
   "outputs": [
    {
     "name": "stdout",
     "output_type": "stream",
     "text": [
      "**PNC:/Users/barronh/Development/pseudonetcdf/src/PseudoNetCDF/core/_functions.py:831:UserWarning:\r\n",
      "  Got duplicate variables for layer72 without stackable dimension; first value retained\r\n"
     ]
    }
   ],
   "source": [
    "!pncgen.py -O -f \"bpch,nogroup=('IJ-AVG-$',),vertgrid='GEOS-5-NATIVE'\" \\\n",
    "         --stack=time -s latitude,28,36 -s longitude,10,25 \\\n",
    "         -s layer72,22 -r time,mean -v O3 \\\n",
    "         bpch/ctm.bpch.v10-01-public-Run0.2013050100 bpch/ctm.bpch.v10-01-public-Run0.2013060100 \\\n",
    "         bpch_500hPa.nc"
   ]
  },
  {
   "cell_type": "markdown",
   "metadata": {},
   "source": [
    "# Now use the command line to make the plot"
   ]
  },
  {
   "cell_type": "code",
   "execution_count": 29,
   "metadata": {
    "collapsed": false,
    "slideshow": {
     "slide_type": "subslide"
    }
   },
   "outputs": [
    {
     "name": "stdout",
     "output_type": "stream",
     "text": [
      "**PNC:/Users/barronh/Development/pseudonetcdf/src/PseudoNetCDF/coordutil.py:181:UserWarning:\n",
      "  Latitude bounds are approximate\n",
      "dc3bpchmapO30.png  dc3bpchmapO31.png\n"
     ]
    }
   ],
   "source": [
    "!pncmap.py --overlay --norm=\"Normalize(0, 100)\" -v O3 \\\n",
    " bpch_500hPa.nc dc3.nc dc3bpchmap\n",
    "%ls dc3bpchmap*"
   ]
  },
  {
   "cell_type": "markdown",
   "metadata": {
    "slideshow": {
     "slide_type": "subslide"
    }
   },
   "source": [
    "![With Overlay](working/dc3bpchmapO31.png)"
   ]
  },
  {
   "cell_type": "markdown",
   "metadata": {
    "slideshow": {
     "slide_type": "subslide"
    }
   },
   "source": [
    "# Evaluate Model with Observations"
   ]
  },
  {
   "cell_type": "code",
   "execution_count": 33,
   "metadata": {
    "collapsed": false,
    "scrolled": true,
    "slideshow": {
     "slide_type": "-"
    }
   },
   "outputs": [
    {
     "name": "stdout",
     "output_type": "stream",
     "text": [
      "dc3nc_0 = ifile0 = dc3.nc\r\n",
      "bpch_5_0 = ifile1 = bpch_500hPa.nc\r\n",
      "**PNC:/Users/barronh/Development/pseudonetcdf/src/PseudoNetCDF/pnceval.py:371:UserWarning:\r\n",
      "  Assumes input order is obs model\r\n",
      "**PNC:/Users/barronh/Development/pseudonetcdf/src/PseudoNetCDF/pnceval.py:378:UserWarning:\r\n",
      "  Skipped MB;operands could not be broadcast together with shapes (1,1,8,15) (6817,) \r\n",
      "**PNC:/Users/barronh/Development/pseudonetcdf/src/PseudoNetCDF/pnceval.py:378:UserWarning:\r\n",
      "  Skipped ME;operands could not be broadcast together with shapes (1,1,8,15) (6817,) \r\n"
     ]
    }
   ],
   "source": [
    "!pncscatter.py -v O3 \\\n",
    "        --plot-commands=\"plt.xlabel('Obs')\" \\\n",
    "        --plot-commands=\"plt.ylabel('Mod')\" \\\n",
    "        dc3.nc bpch_500hPa.nc scat\n",
    "!pnceval.py --funcs=MB,ME -v O3 dc3.nc bpch_500hPa.nc"
   ]
  },
  {
   "cell_type": "markdown",
   "metadata": {
    "slideshow": {
     "slide_type": "subslide"
    }
   },
   "source": [
    "![Scatter](working/scatO3.png)"
   ]
  },
  {
   "cell_type": "code",
   "execution_count": 25,
   "metadata": {
    "collapsed": false
   },
   "outputs": [
    {
     "name": "stdout",
     "output_type": "stream",
     "text": [
      "usage: pnceval.py [-h] [--verbose] [--pnc PNC]\r\n",
      "                  [-f {see --list-formats for choices}]\r\n",
      "                  [--list-format] [--help-format HELPFORMAT]\r\n",
      "                  [--sep] [--inherit] [--mangle]\r\n",
      "                  [--rename RENAME]\r\n",
      "                  [--remove-singleton REMOVESINGLETON]\r\n",
      "                  [--coordkeys key1,key2]\r\n",
      "                  [-v varname1[,varname2[,...,varnameN]]\r\n",
      "                  [-a att_nm,var_nm,mode,att_typ,att_val]\r\n",
      "                  [-m MASKS] [--from-convention FROMCONV]\r\n",
      "                  [--to-convention TOCONV] [--stack STACK]\r\n",
      "                  [--merge] [-s dim,start[,stop[,step]]]\r\n",
      "                  [-r dim,function[,weight]]\r\n",
      "                  [--mesh dim,weight,function]\r\n",
      "                  [-c dim,mode,wgt1,wgt2,...wgtN] [-e EXTRACT]\r\n",
      "                  [--extract-file EXTRACTFILE]\r\n",
      "                  [--extractmethod {nn,linear,cubic,quintic,KDTree}]\r\n",
      "                  [--op-typ OPERATORS] [--expr EXPRESSIONS]\r\n",
      "                  [--exprscript EXPRESSIONSCRIPTS] [-i] [-H]\r\n",
      "                  [-t] [--full-indices [c|f]] [-l LEN]\r\n",
      "                  [--float-precision FDIG]\r\n",
      "                  [--double-precision PDIG]\r\n",
      "                  [--dump-name CDLNAME] [--funcs FUNCS]\r\n",
      "                  [ifiles [ifiles ...]]\r\n",
      "\r\n",
      "PseudoNetCDF Argument Parsing\r\n",
      "\r\n",
      "positional arguments:\r\n",
      "  ifiles                path to a file formatted as type -f\r\n",
      "\r\n",
      "optional arguments:\r\n",
      "  -h, --help            show this help message and exit\r\n",
      "  --verbose             Provides verbosity with pncgen\r\n",
      "  --pnc PNC             Set of pseudonetcdf commands to be\r\n",
      "                        process separately\r\n",
      "  -f {see --list-formats for choices}, --format {see --list-formats for choices}\r\n",
      "                        File format (default netcdf), can be\r\n",
      "                        one of the choices listed, or an\r\n",
      "                        expression that evaluates to a reader.\r\n",
      "                        Keyword arguments are passed via\r\n",
      "                        ,kwd=value.\r\n",
      "  --list-format         Show format options for -f\r\n",
      "  --help-format HELPFORMAT\r\n",
      "                        Show help for file format (must be one\r\n",
      "                        of the options for -f)\r\n",
      "  --sep                 Used to separate groups of arguments\r\n",
      "                        for parsing (e.g., pncgen -- [options1]\r\n",
      "                        file(s)1 [--sep [options2] file(s)2\r\n",
      "                        [... [--sep [optionsN] file(s)N]]\r\n",
      "  --inherit             Allow subparsed sections (separated\r\n",
      "                        with -- and --sep) to inherit from\r\n",
      "                        global options (-f, --format is always\r\n",
      "                        inherited).\r\n",
      "  --mangle              Remove non-standard ascii from names\r\n",
      "  --rename RENAME       Provide pairs of strings to be\r\n",
      "                        substituted --rename=type,oldkey,newkey\r\n",
      "                        (type: v = variable; d = dimension;)\r\n",
      "  --remove-singleton REMOVESINGLETON\r\n",
      "                        Remove singleton (length 1) dimensions\r\n",
      "  --coordkeys key1,key2\r\n",
      "                        Variables to be ignored in pncbo.\r\n",
      "  -v varname1[,varname2[,...,varnameN], --variables varname1[,varname2[,...,varnameN]\r\n",
      "                        Variable names or regular expressions\r\n",
      "                        (using match) separated by ','. If a\r\n",
      "                        group(s) has been specified, only\r\n",
      "                        variables in that (those) group(s) will\r\n",
      "                        be selected.\r\n",
      "  -a att_nm,var_nm,mode,att_typ,att_val, --attribute att_nm,var_nm,mode,att_typ,att_val\r\n",
      "                        Variables have attributes that can be\r\n",
      "                        added following nco syntax (--attribute\r\n",
      "                        att_nm,var_nm,mode,att_typ,att_val);\r\n",
      "                        mode = a,c,d,m,o and att_typ =\r\n",
      "                        f,d,l,s,c,b; att_typ is any valid numpy\r\n",
      "                        type.\r\n",
      "  -m MASKS, --mask MASKS\r\n",
      "                        Masks to apply (e.g., greater,0 or\r\n",
      "                        less,0 or values,0, or where,(time[:]%2\r\n",
      "                        4<12)[:,None].repeat(10,1))\r\n",
      "  --from-convention FROMCONV\r\n",
      "                        From convention currently only support\r\n",
      "                        ioapi\r\n",
      "  --to-convention TOCONV\r\n",
      "                        To convention currently only supports\r\n",
      "                        cf\r\n",
      "  --stack STACK         Concatentate (stack) files on the\r\n",
      "                        dimension.\r\n",
      "  --merge               Combine variables into one file\r\n",
      "  -s dim,start[,stop[,step]], --slice dim,start[,stop[,step]]\r\n",
      "                        Variables have dimensions (time, layer,\r\n",
      "                        lat, lon), which can be subset using\r\n",
      "                        dim,start,stop,stride (e.g.,\r\n",
      "                        --slice=layer,0,47,5 would sample every\r\n",
      "                        fifth layer starting at 0)\r\n",
      "  -r dim,function[,weight], --reduce dim,function[,weight]\r\n",
      "                        Variable dimensions can be reduced\r\n",
      "                        using dim,function,weight syntax (e.g.,\r\n",
      "                        --reduce=layer,mean,weight). Weighting\r\n",
      "                        is not fully functional.\r\n",
      "  --mesh dim,weight,function\r\n",
      "                        Variable dimensions can be meshed using\r\n",
      "                        dim,function,weight syntax (e.g.,\r\n",
      "                        --mesh=time,0.5,mean).\r\n",
      "  -c dim,mode,wgt1,wgt2,...wgtN, --convolve dim,mode,wgt1,wgt2,...wgtN\r\n",
      "                        Variable dimension is reduced by\r\n",
      "                        convolve function\r\n",
      "                        (dim,mode,wgt1,wgt2,...wgtN)\r\n",
      "  -e EXTRACT, --extract EXTRACT\r\n",
      "                        lon/lat coordinates to extract lon1,lat\r\n",
      "                        1/lon2,lat2/lon3,lat3/.../lonN,latN\r\n",
      "  --extract-file EXTRACTFILE\r\n",
      "                        pncparse options for file\r\n",
      "  --extractmethod {nn,linear,cubic,quintic,KDTree}\r\n",
      "                        Method for extraction\r\n",
      "  --op-typ OPERATORS    Operator for binary file operations.\r\n",
      "                        Binary file operations use the first\r\n",
      "                        two files, then the result and the next\r\n",
      "                        file, etc. Use // or <= or % or is not\r\n",
      "                        or >> or & or == or != or + or * or -\r\n",
      "                        or / or < or >= or ** or > or << or |\r\n",
      "                        or is or ^\r\n",
      "  --expr EXPRESSIONS    Generic expressions to execute in the\r\n",
      "                        context of the file.\r\n",
      "  --exprscript EXPRESSIONSCRIPTS\r\n",
      "                        Generic expressions to execute in the\r\n",
      "                        context of the file.\r\n",
      "  -i, --interactive     Use interactive mode\r\n",
      "  -H, --header\r\n",
      "  -t, --timestring\r\n",
      "  --full-indices [c|f]  Provide indices in CDL using either C\r\n",
      "                        or Fortran style indexes. C style is\r\n",
      "                        0-based and ordered from slowest\r\n",
      "                        iterating dimension to fastest. Fortran\r\n",
      "                        style is 1-based and ordered from\r\n",
      "                        fastest to slowest iterating dimension\r\n",
      "  -l LEN, --length LEN  CDL line length (pncdump only)\r\n",
      "  --float-precision FDIG\r\n",
      "                        single precision digitis (default 8;\r\n",
      "                        pncdump only)\r\n",
      "  --double-precision PDIG\r\n",
      "                        pdig double precision digits (default\r\n",
      "                        16; pncdump only)\r\n",
      "  --dump-name CDLNAME   Name for display in ncdump\r\n",
      "  --funcs FUNCS         Functions to evaluate split by ,\r\n",
      "                        (default: NO,NP,NOP,MO,MP,MdnO,MdnP,STD\r\n",
      "                        O,STDP,RM,RMdn,MB,MdnB,WDMB,WDMdnB,FB,M\r\n",
      "                        NB,MdnNB,NMB,NMdnB,USUTPB,PSUTMNPB,PSUT\r\n",
      "                        MdnNPB,PSUTNMPB,PSUTNMdnPB,ME,MdnE,WDME\r\n",
      "                        ,WDMdnE,FE,MNE,MdnNE,NME,NMdnE,USUTPE,P\r\n",
      "                        SUTMNPE,PSUTMdnNPE,PSUTNMPE,PSUTNMdnPE,\r\n",
      "                        R2,RMSE,RMSEs,RMSEu,E1,IOA,d1,AC,WDIOA,\r\n",
      "                        WDRMSE,WDAC)\r\n",
      "\r\n",
      "Detailed Steps\r\n",
      "--------------\r\n",
      "\r\n",
      "PseudoNetCDF has many operations and the order often matters. The order is consistent with the order of options in the formatted help. The default order is summarized as:\r\n",
      "\r\n",
      "1. Open with specified reader (-f)\r\n",
      "2. Select subset of variables (-v)\r\n",
      "2. Add attributes (-a)\r\n",
      "4. Apply masks (--mask)\r\n",
      "5. Add conventions to support later operations (--to-convention, --from-convention)\r\n",
      "6. Combine files via stacking on dimensions (--stack)\r\n",
      "7. Slice dimensions (-s --slice)\r\n",
      "8. Reduce dimensions (-r --reduce)\r\n",
      "9. Convolve dimensions (-c)\r\n",
      "10. Extract specific coordinates (--extract)\r\n",
      "11. Remove singleton dimensions (--remove-singleton)\r\n",
      "12. Apply expressions (--expr then --exprscripts)\r\n",
      "13. Apply binary operators (--op_typ)\r\n",
      "\r\n",
      "To impose your own order, use standard options (global options) and then use -- to force positional interpretation of remaining options. In remaining options, use --sep to separate groups of files and options to be evaluated before any global operations.\r\n"
     ]
    }
   ],
   "source": [
    "!pnceval.py --help"
   ]
  },
  {
   "cell_type": "markdown",
   "metadata": {
    "slideshow": {
     "slide_type": "slide"
    }
   },
   "source": [
    "# Summary\n",
    "\n",
    "You should be able to:\n",
    "1. Open data of different types.\n",
    "2. Characterize a dataset using the Common Data Language\n",
    "3. Slice and reduce dimensions.\n",
    "4. Create spatial plots with observations. \n",
    "5. Do a simple evaluation.\n"
   ]
  },
  {
   "cell_type": "code",
   "execution_count": null,
   "metadata": {
    "collapsed": true
   },
   "outputs": [],
   "source": []
  }
 ],
 "metadata": {
  "celltoolbar": "Slideshow",
  "kernelspec": {
   "display_name": "Python 3",
   "language": "python",
   "name": "python3"
  },
  "language_info": {
   "codemirror_mode": {
    "name": "ipython",
    "version": 3
   },
   "file_extension": ".py",
   "mimetype": "text/x-python",
   "name": "python",
   "nbconvert_exporter": "python",
   "pygments_lexer": "ipython3",
   "version": "3.5.1"
  }
 },
 "nbformat": 4,
 "nbformat_minor": 0
}
