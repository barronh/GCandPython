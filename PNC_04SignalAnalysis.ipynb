{
 "cells": [
  {
   "cell_type": "code",
   "execution_count": 1,
   "metadata": {
    "collapsed": false
   },
   "outputs": [
    {
     "data": {
      "text/plain": [
       "{'start_slideshow_at': 'selected', 'theme': 'simple', 'transition': 'convex'}"
      ]
     },
     "execution_count": 1,
     "metadata": {},
     "output_type": "execute_result"
    }
   ],
   "source": [
    "from notebook.services.config import ConfigManager\n",
    "cfgm = ConfigManager()\n",
    "cfgm.update('livereveal', {\n",
    "              'theme': 'simple',\n",
    "              'transition': 'convex',\n",
    "              'start_slideshow_at': 'selected'\n",
    "})\n"
   ]
  },
  {
   "cell_type": "markdown",
   "metadata": {
    "slideshow": {
     "slide_type": "slide"
    }
   },
   "source": [
    "# Python Signal Analysis Evaluation\n",
    "Author: Barron H. Henderson"
   ]
  },
  {
   "cell_type": "code",
   "execution_count": 2,
   "metadata": {
    "collapsed": false,
    "slideshow": {
     "slide_type": "slide"
    }
   },
   "outputs": [
    {
     "name": "stdout",
     "output_type": "stream",
     "text": [
      "Populating the interactive namespace from numpy and matplotlib\n",
      "/Users/barronh/Development/GCandPython/working\n"
     ]
    }
   ],
   "source": [
    "# Prepare my slides\n",
    "%pylab inline\n",
    "%cd working"
   ]
  },
  {
   "cell_type": "markdown",
   "metadata": {
    "slideshow": {
     "slide_type": "slide"
    }
   },
   "source": [
    "# SciPy and NumPy have a great libraries"
   ]
  },
  {
   "cell_type": "code",
   "execution_count": 1,
   "metadata": {
    "collapsed": true
   },
   "outputs": [],
   "source": [
    "import scipy.signal"
   ]
  },
  {
   "cell_type": "code",
   "execution_count": 2,
   "metadata": {
    "collapsed": false
   },
   "outputs": [],
   "source": [
    "?scipy.signal.lombscargle"
   ]
  },
  {
   "cell_type": "markdown",
   "metadata": {},
   "source": [
    "# Download a Longer Dataset\n",
    "\n"
   ]
  },
  {
   "cell_type": "code",
   "execution_count": null,
   "metadata": {
    "collapsed": false
   },
   "outputs": [],
   "source": [
    "!curl -LO ftp://data.as.essie.ufl.edu/pub/exch/GCandPython/working/AQS_DATA_20060101-20141231.nc"
   ]
  },
  {
   "cell_type": "markdown",
   "metadata": {},
   "source": [
    "# Fast Fourier Transform"
   ]
  },
  {
   "cell_type": "code",
   "execution_count": 12,
   "metadata": {
    "collapsed": false
   },
   "outputs": [
    {
     "data": {
      "text/plain": [
       "32"
      ]
     },
     "execution_count": 12,
     "metadata": {},
     "output_type": "execute_result"
    }
   ],
   "source": [
    "from PseudoNetCDF import PNC\n",
    "args = PNC('AQS_DATA_20060101-20141231.nc')\n",
    "ifile = args.ifiles[0]\n",
    "Ozone = ifile.variables['Ozone'][:]\n",
    "time = ifile.variables['time']\n",
    "stations = ifile.SITENAMES.split(';')\n",
    "station = '120013011'\n",
    "station_idx = stations.index(station)\n",
    "tunit = time.units.split(' ')[0]\n",
    "station_idx"
   ]
  },
  {
   "cell_type": "code",
   "execution_count": 5,
   "metadata": {
    "collapsed": false
   },
   "outputs": [],
   "source": [
    "# Start by checking that data is sampled hourly or daily...\n",
    "sample_spacing = (np.diff(time[:])[0])\n",
    "# Calculate frequency\n",
    "sample_freq = 1 / sample_spacing\n"
   ]
  },
  {
   "cell_type": "markdown",
   "metadata": {},
   "source": [
    "# Grab and fill data with interpolation"
   ]
  },
  {
   "cell_type": "code",
   "execution_count": 6,
   "metadata": {
    "collapsed": true
   },
   "outputs": [],
   "source": [
    "unfilled_data = Ozone[:, 0, station_idx]\n",
    "#unfilled_data = Ozone[:, 0, :].mean(1)\n",
    "filled_data = unfilled_data.copy()\n",
    "filled_data[filled_data.mask] = np.interp(time[filled_data.mask], \\\n",
    "                                          time[~filled_data.mask], \\\n",
    "                                          filled_data[~filled_data.mask])"
   ]
  },
  {
   "cell_type": "code",
   "execution_count": null,
   "metadata": {
    "collapsed": true
   },
   "outputs": [],
   "source": []
  },
  {
   "cell_type": "code",
   "execution_count": 7,
   "metadata": {
    "collapsed": true
   },
   "outputs": [],
   "source": [
    "# use filled data as w\n",
    "w = filled_data #- filled_data.mean()\n",
    "# Convert to standard array\n",
    "w = w.compressed()\n",
    "\n",
    "# require at least 100 points\n",
    "assert(w.size == filled_data.size)\n",
    "assert(w.size >= 100)\n",
    "\n",
    "#w = np.ma.masked_invalid(data['h_velocity'][start:end]).reshape(-1, 32).mean(1).compressed()\n",
    "# calculate the variance\n",
    "wvar = w.std()**2"
   ]
  },
  {
   "cell_type": "markdown",
   "metadata": {
    "slideshow": {
     "slide_type": "slide"
    }
   },
   "source": [
    "# Apply Fourier Transform"
   ]
  },
  {
   "cell_type": "code",
   "execution_count": null,
   "metadata": {
    "collapsed": true
   },
   "outputs": [],
   "source": [
    "?np.fft.rfftfreq"
   ]
  },
  {
   "cell_type": "code",
   "execution_count": null,
   "metadata": {
    "collapsed": true
   },
   "outputs": [],
   "source": [
    "?np.fft.rfftfreq"
   ]
  },
  {
   "cell_type": "code",
   "execution_count": 8,
   "metadata": {
    "collapsed": true
   },
   "outputs": [],
   "source": [
    "# calculate the real valued fft\n",
    "fft = np.fft.rfft(w)\n",
    "# Identify the absolute value of all frequencies\n",
    "freqfft = np.abs(np.fft.rfftfreq(w.size, d= sample_spacing)[:fft.size])"
   ]
  },
  {
   "cell_type": "code",
   "execution_count": 9,
   "metadata": {
    "collapsed": true
   },
   "outputs": [],
   "source": [
    "y = freqfft * np.abs(fft)**2 / w.size #/ wvar \n",
    "# Calculate the amplitude of the FFT\n",
    "ampfft = np.abs(fft)\n",
    "# Calculate the phase of FFT\n",
    "phasefft = np.angle(fft)"
   ]
  },
  {
   "cell_type": "code",
   "execution_count": 10,
   "metadata": {
    "collapsed": false
   },
   "outputs": [
    {
     "name": "stderr",
     "output_type": "stream",
     "text": [
      "**PNC://anaconda/lib/python3.5/site-packages/ipykernel/__main__.py:3:RuntimeWarning:\n",
      "  divide by zero encountered in true_divide\n"
     ]
    }
   ],
   "source": [
    "#smooth output\n",
    "#y = np.convolve(y, np.hanning(24), mode = 'same')\n",
    "periodfft = 1/freqfft"
   ]
  },
  {
   "cell_type": "code",
   "execution_count": 11,
   "metadata": {
    "collapsed": false
   },
   "outputs": [
    {
     "name": "stderr",
     "output_type": "stream",
     "text": [
      "**PNC://anaconda/lib/python3.5/site-packages/matplotlib/scale.py:93:RuntimeWarning:\n",
      "  invalid value encountered in less_equal\n"
     ]
    },
    {
     "data": {
      "image/png": "[encoded data removed]",
      "text/plain": [
       "<matplotlib.figure.Figure at 0x112558358>"
      ]
     },
     "metadata": {},
     "output_type": "display_data"
    }
   ],
   "source": [
    "plt.figure(figsize=(8, 6))\n",
    "plt.loglog(np.ma.masked_invalid(periodfft), ampfft, label = 'Fast-Fourier Transform (FFT)', c = 'black')\n",
    "plt.xlim(periodfft[-1], periodfft[1])\n",
    "ymin, ymax = plt.ylim(None, None)\n",
    "plt.tick_params(labelleft = False, labelright = True)\n",
    "plt.xlabel('Period (%s)' % tunit)\n",
    "plt.legend(loc = 'lower right');\n",
    "\n",
    "hourspertime = 1\n",
    "timesperday=24/hourspertime\n",
    "plt.annotate('yearly', (365*timesperday, ymax), rotation = 90, horizontalalignment = 'center', verticalalignment = 'top')\n",
    "plt.annotate('monthly', (365./12.*timesperday, ymax), rotation = 90, horizontalalignment = 'center', verticalalignment = 'top')\n",
    "plt.annotate('weekly', (7.*timesperday, ymax), rotation = 90, horizontalalignment = 'center', verticalalignment = 'top')\n",
    "plt.annotate('daily', (timesperday, ymax), rotation = 90, horizontalalignment = 'center', verticalalignment = 'top')\n",
    "plt.annotate('12 hours', (timesperday/2., ymax), rotation = 90, horizontalalignment = 'center', verticalalignment = 'top')\n",
    "plt.annotate('6 hours', (timesperday/4., ymax), rotation = 90, horizontalalignment = 'center', verticalalignment = 'top')\n",
    "plt.annotate('3 hours', (timesperday/8., ymax), rotation = 90, horizontalalignment = 'center', verticalalignment = 'top');\n",
    "\n",
    "new = np.fft.irfft(freqfft, len(w))"
   ]
  },
  {
   "cell_type": "code",
   "execution_count": null,
   "metadata": {
    "collapsed": false
   },
   "outputs": [],
   "source": [
    "import scipy.signal\n",
    "?scipy.signal"
   ]
  },
  {
   "cell_type": "markdown",
   "metadata": {
    "slideshow": {
     "slide_type": "slide"
    }
   },
   "source": [
    "# Lomb Scargle\n",
    "\n",
    "Of complex patterns and such"
   ]
  },
  {
   "cell_type": "code",
   "execution_count": null,
   "metadata": {
    "collapsed": true
   },
   "outputs": [],
   "source": [
    "from scipy.signal import lombscargle\n",
    "angularfreq = 2* np.pi / periodfft[1:]\n",
    "lsdata = np.ma.masked_values(unfilled_data[:], 0)\n",
    "lstime = np.ma.masked_where(lsdata.mask, time[:]).compressed().astype('d')\n",
    "\n",
    "lspgram = lombscargle(lstime, lsdata.compressed().astype('d'), angularfreq)"
   ]
  },
  {
   "cell_type": "code",
   "execution_count": null,
   "metadata": {
    "collapsed": false
   },
   "outputs": [],
   "source": [
    "lsamp = np.sqrt(4*(lspgram/float(lstime.size)))"
   ]
  },
  {
   "cell_type": "code",
   "execution_count": null,
   "metadata": {
    "collapsed": false
   },
   "outputs": [],
   "source": [
    "plt.loglog(periodfft[1:]/hourspertime, lsamp, label = 'Lomb-Scargle (LSP)', c = 'grey')\n",
    "plt.xlim(periodfft[-1], periodfft[1])\n",
    "ymin, ymax = plt.ylim()\n",
    "\n",
    "plt.annotate('yearly', (365*timesperday, ymax), rotation = 90, horizontalalignment = 'center', verticalalignment = 'top')\n",
    "plt.annotate('monthly', (365./12.*timesperday, ymax), rotation = 90, horizontalalignment = 'center', verticalalignment = 'top')\n",
    "plt.annotate('weekly', (7.*timesperday, ymax), rotation = 90, horizontalalignment = 'center', verticalalignment = 'top')\n",
    "plt.annotate('daily', (timesperday, ymax), rotation = 90, horizontalalignment = 'center', verticalalignment = 'top')\n",
    "plt.annotate('12 hours', (timesperday/2., ymax), rotation = 90, horizontalalignment = 'center', verticalalignment = 'top')\n",
    "plt.annotate('6 hours', (timesperday/4., ymax), rotation = 90, horizontalalignment = 'center', verticalalignment = 'top')\n",
    "plt.annotate('3 hours', (timesperday/8., ymax), rotation = 90, horizontalalignment = 'center', verticalalignment = 'top');\n",
    "\n",
    "\n",
    "plt.legend(loc = 'lower right')\n"
   ]
  },
  {
   "cell_type": "code",
   "execution_count": null,
   "metadata": {
    "collapsed": true
   },
   "outputs": [],
   "source": []
  }
 ],
 "metadata": {
  "celltoolbar": "Slideshow",
  "kernelspec": {
   "display_name": "Python 3",
   "language": "python",
   "name": "python3"
  },
  "language_info": {
   "codemirror_mode": {
    "name": "ipython",
    "version": 3
   },
   "file_extension": ".py",
   "mimetype": "text/x-python",
   "name": "python",
   "nbconvert_exporter": "python",
   "pygments_lexer": "ipython3",
   "version": "3.5.1"
  }
 },
 "nbformat": 4,
 "nbformat_minor": 0
}
