{
 "cells": [
  {
   "cell_type": "code",
   "execution_count": 2,
   "metadata": {
    "collapsed": false,
    "slideshow": {
     "slide_type": "skip"
    }
   },
   "outputs": [
    {
     "data": {
      "text/plain": [
       "{'start_slideshow_at': 'selected', 'theme': 'simple', 'transition': 'convex'}"
      ]
     },
     "execution_count": 2,
     "metadata": {},
     "output_type": "execute_result"
    }
   ],
   "source": [
    "from notebook.services.config import ConfigManager\n",
    "cm = ConfigManager()\n",
    "cm.update('livereveal', {\n",
    "              'theme': 'simple',\n",
    "              'transition': 'convex',\n",
    "              'start_slideshow_at': 'selected'\n",
    "})"
   ]
  },
  {
   "cell_type": "code",
   "execution_count": 3,
   "metadata": {
    "collapsed": false,
    "slideshow": {
     "slide_type": "slide"
    }
   },
   "outputs": [
    {
     "name": "stdout",
     "output_type": "stream",
     "text": [
      "Populating the interactive namespace from numpy and matplotlib\n",
      "/Users/barronh/Development/GCandPython/working\n"
     ]
    },
    {
     "name": "stderr",
     "output_type": "stream",
     "text": [
      "WARNING: pylab import has clobbered these variables: ['cm']\n",
      "`%matplotlib` prevents importing * from pylab and numpy\n"
     ]
    }
   ],
   "source": [
    "# Prepare my slides\n",
    "%pylab inline\n",
    "%cd working"
   ]
  },
  {
   "cell_type": "markdown",
   "metadata": {
    "slideshow": {
     "slide_type": "slide"
    }
   },
   "source": [
    "# ICARTT Evaluation\n",
    "\n",
    "Author: Barron H. Henderson\n",
    "\n",
    "This presentation will teach basics of spatial interpolation and statistical evaluation using Python with PseudoNetCDF, numpy, and scipy."
   ]
  },
  {
   "cell_type": "markdown",
   "metadata": {
    "slideshow": {
     "slide_type": "slide"
    }
   },
   "source": [
    "# Evaluation\n",
    "\n",
    "1. Step one pairing data\n",
    "2. Homogonize dimensions\n",
    "3. Use test metrics"
   ]
  },
  {
   "cell_type": "markdown",
   "metadata": {
    "slideshow": {
     "slide_type": "slide"
    }
   },
   "source": [
    "# Pairing Data - Better Interpolation\n",
    "\n",
    "- In PNC_02Figures , we masked data instead of matching data.\n",
    "- Ideally, we would have a multi-dimensional interpolation.\n",
    "- For this we will use scipy KDTree"
   ]
  },
  {
   "cell_type": "markdown",
   "metadata": {
    "slideshow": {
     "slide_type": "subslide"
    }
   },
   "source": [
    "# First, load the data again"
   ]
  },
  {
   "cell_type": "code",
   "execution_count": 4,
   "metadata": {
    "collapsed": true,
    "slideshow": {
     "slide_type": "-"
    }
   },
   "outputs": [],
   "source": [
    "from PseudoNetCDF import PNC"
   ]
  },
  {
   "cell_type": "markdown",
   "metadata": {
    "slideshow": {
     "slide_type": "subslide"
    }
   },
   "source": [
    "# Read Model Data"
   ]
  },
  {
   "cell_type": "code",
   "execution_count": 5,
   "metadata": {
    "collapsed": false,
    "slideshow": {
     "slide_type": "-"
    }
   },
   "outputs": [],
   "source": [
    "margs = PNC('--format=bpch,nogroup=(\"IJ-AVG-$\",\"PEDGE-$\"),vertgrid=\"GEOS-5-NATIVE\"', \"bpch/ctm.bpch.v10-01-public-Run0.2013050100\")\n",
    "mfile = margs.ifile[0]\n",
    "mlon = mfile.variables['longitude']\n",
    "mlat = mfile.variables['latitude']\n",
    "MLON, MLAT = np.meshgrid(mlon, mlat)\n",
    "mO3 = mfile.variables['O3']"
   ]
  },
  {
   "cell_type": "markdown",
   "metadata": {
    "slideshow": {
     "slide_type": "subslide"
    }
   },
   "source": [
    "# Read Observations"
   ]
  },
  {
   "cell_type": "code",
   "execution_count": 6,
   "metadata": {
    "collapsed": true,
    "slideshow": {
     "slide_type": "-"
    }
   },
   "outputs": [],
   "source": [
    "oargs = PNC(\"-f\", \"ffi1001\", \"--rename=v,O3_ESRL,O3\", \"--variables=Fractional_Day,O3_ESRL,LATITUDE,LONGITUDE,PRESSURE\", \"--expr=latitude=LATITUDE;longitude=np.where(LONGITUDE>180,LONGITUDE-360,LONGITUDE);time=Fractional_Day*24*3600;time.units=\\\"seconds since 2011-12-31\\\"\", \"icartt/dc3-mrg60-dc8_merge_20120518_R7_thru20120622.ict\")\n",
    "ofile = oargs.ifile[0]\n",
    "olons = ofile.variables['longitude']\n",
    "olats = ofile.variables['latitude']\n",
    "oO3 = ofile.variables['O3']"
   ]
  },
  {
   "cell_type": "markdown",
   "metadata": {
    "slideshow": {
     "slide_type": "subslide"
    }
   },
   "source": [
    "# Scipy has a spatial library"
   ]
  },
  {
   "cell_type": "code",
   "execution_count": 7,
   "metadata": {
    "collapsed": true
   },
   "outputs": [],
   "source": [
    "import scipy.spatial\n",
    "?scipy.spatial"
   ]
  },
  {
   "cell_type": "code",
   "execution_count": 8,
   "metadata": {
    "collapsed": true
   },
   "outputs": [],
   "source": [
    "?scipy.spatial.KDTree"
   ]
  },
  {
   "cell_type": "markdown",
   "metadata": {
    "slideshow": {
     "slide_type": "subslide"
    }
   },
   "source": [
    "# Perform 2-d nearest neighbor interpolation"
   ]
  },
  {
   "cell_type": "code",
   "execution_count": 9,
   "metadata": {
    "collapsed": false
   },
   "outputs": [
    {
     "data": {
      "text/plain": [
       "(1, 72, 6817)"
      ]
     },
     "execution_count": 9,
     "metadata": {},
     "output_type": "execute_result"
    }
   ],
   "source": [
    "from scipy.spatial import KDTree\n",
    "tree = KDTree(np.ma.array([MLAT.ravel(), MLON.ravel()]).T)\n",
    "dists, idxs = tree.query(np.ma.array([olats, olons]).T)\n",
    "latidxs, lonidxs = np.unravel_index(idxs, MLAT.shape)\n",
    "plt.close()\n",
    "mpO3 = mO3[:, :, latidxs, lonidxs]\n",
    "mpO3.shape"
   ]
  },
  {
   "cell_type": "code",
   "execution_count": 10,
   "metadata": {
    "collapsed": false
   },
   "outputs": [
    {
     "data": {
      "text/plain": [
       "(1, 6817)"
      ]
     },
     "execution_count": 10,
     "metadata": {},
     "output_type": "execute_result"
    }
   ],
   "source": [
    "moO3 = mpO3[:, 22]\n",
    "moO3.shape"
   ]
  },
  {
   "cell_type": "markdown",
   "metadata": {
    "slideshow": {
     "slide_type": "subslide"
    }
   },
   "source": [
    "# Simple Regression"
   ]
  },
  {
   "cell_type": "code",
   "execution_count": 11,
   "metadata": {
    "collapsed": true
   },
   "outputs": [],
   "source": [
    "from scipy.stats.mstats import linregress\n",
    "?linregress"
   ]
  },
  {
   "cell_type": "code",
   "execution_count": 12,
   "metadata": {
    "collapsed": false
   },
   "outputs": [
    {
     "data": {
      "text/plain": [
       "LinregressResult(slope=0.0099229240338284484, intercept=62.20980412603771, rvalue=0.16567531951023762, pvalue=9.7572413024780524e-43, stderr=0.00071908932359236255)"
      ]
     },
     "execution_count": 12,
     "metadata": {},
     "output_type": "execute_result"
    }
   ],
   "source": [
    "lr = linregress(oO3[:], moO3[:])\n",
    "lr"
   ]
  },
  {
   "cell_type": "code",
   "execution_count": 13,
   "metadata": {
    "collapsed": false,
    "scrolled": true,
    "slideshow": {
     "slide_type": "-"
    }
   },
   "outputs": [
    {
     "data": {
      "text/plain": [
       "<matplotlib.text.Text at 0x1381ad5f8>"
      ]
     },
     "execution_count": 13,
     "metadata": {},
     "output_type": "execute_result"
    },
    {
     "data": {
      "image/png": "[encoded data removed]",
      "text/plain": [
       "<matplotlib.figure.Figure at 0x137a90748>"
      ]
     },
     "metadata": {},
     "output_type": "display_data"
    }
   ],
   "source": [
    "x = np.array(oO3[:].min(), oO3[:].max())\n",
    "plt.scatter(oO3[:], moO3)\n",
    "plt.plot(x, lr.slope * x + lr.intercept, ls = '--')\n",
    "plt.text(x.mean(), plt.ylim()[1], 'r=%.2f; p=%.2f' % (lr.rvalue, lr.pvalue))"
   ]
  },
  {
   "cell_type": "code",
   "execution_count": null,
   "metadata": {
    "collapsed": true
   },
   "outputs": [],
   "source": []
  },
  {
   "cell_type": "markdown",
   "metadata": {
    "slideshow": {
     "slide_type": "subslide"
    }
   },
   "source": [
    "# 1 Include More Variables"
   ]
  },
  {
   "cell_type": "code",
   "execution_count": 14,
   "metadata": {
    "collapsed": true
   },
   "outputs": [],
   "source": [
    "from scipy.spatial import KDTree\n",
    "from PseudoNetCDF import PNC\n",
    "# Read Model Data\n",
    "margs = PNC('-c', \"layer73,valid,0.5,0.5\", '--format=bpch,nogroup=(\"IJ-AVG-$\",\"PEDGE-$\"),vertgrid=\"GEOS-5-NATIVE\"', \"bpch/ctm.bpch.v10-01-public-Run0.2013050100\")\n",
    "mfile = margs.ifile[0]\n",
    "mlon = mfile.variables['longitude']\n",
    "mlat = mfile.variables['latitude']\n",
    "mpres = mfile.variables['PSURF']\n",
    "mO3 = mfile.variables['O3']\n",
    "\n",
    "\n",
    "# Read Observations\n",
    "oargs = PNC(\"-f\", \"ffi1001\", \"--rename=v,O3_ESRL,O3\", \"--variables=Fractional_Day,O3_ESRL,LATITUDE,LONGITUDE,PRESSURE\", \"--expr=latitude=LATITUDE;longitude=np.where(LONGITUDE>180,LONGITUDE-360,LONGITUDE);time=Fractional_Day*24*3600;time.units=\\\"seconds since 2011-12-31\\\"\", \"icartt/dc3-mrg60-dc8_merge_20120518_R7_thru20120622.ict\")\n",
    "ofile = oargs.ifile[0]\n",
    "olons = ofile.variables['longitude']\n",
    "olats = ofile.variables['latitude']\n",
    "opres = ofile.variables['PRESSURE']\n",
    "oO3 = ofile.variables['O3']"
   ]
  },
  {
   "cell_type": "markdown",
   "metadata": {
    "slideshow": {
     "slide_type": "subslide"
    }
   },
   "source": [
    "# 2 Nearest Neighbor using pressure/lon/lat as peers"
   ]
  },
  {
   "cell_type": "code",
   "execution_count": 15,
   "metadata": {
    "collapsed": false
   },
   "outputs": [
    {
     "data": {
      "text/plain": [
       "(46, 72)"
      ]
     },
     "execution_count": 15,
     "metadata": {},
     "output_type": "execute_result"
    }
   ],
   "source": [
    "MLON, MLAT = np.meshgrid(mlon, mlat)\n",
    "MLAT.shape"
   ]
  },
  {
   "cell_type": "code",
   "execution_count": 16,
   "metadata": {
    "collapsed": false
   },
   "outputs": [
    {
     "data": {
      "text/plain": [
       "(72, 46, 72)"
      ]
     },
     "execution_count": 16,
     "metadata": {},
     "output_type": "execute_result"
    }
   ],
   "source": [
    "MLON = MLON * np.ones_like(mO3[0])\n",
    "MLAT = MLAT * np.ones_like(mO3[0])\n",
    "MLAT.shape"
   ]
  },
  {
   "cell_type": "code",
   "execution_count": 17,
   "metadata": {
    "collapsed": false
   },
   "outputs": [
    {
     "data": {
      "text/plain": [
       "(6817,)"
      ]
     },
     "execution_count": 17,
     "metadata": {},
     "output_type": "execute_result"
    }
   ],
   "source": [
    "tree = KDTree(np.ma.array([mpres.ravel(), MLAT.ravel(), MLON.ravel()]).T)\n",
    "dists, idxs = tree.query(np.ma.array([opres, olats, olons]).T)\n",
    "presidxs, latidxs, lonidxs = np.unravel_index(idxs, MLAT.shape)\n",
    "moO3 = mO3[:, presidxs, latidxs, lonidxs][0]\n",
    "moO3.shape"
   ]
  },
  {
   "cell_type": "markdown",
   "metadata": {
    "slideshow": {
     "slide_type": "subslide"
    }
   },
   "source": [
    "# Plot Paired Results"
   ]
  },
  {
   "cell_type": "code",
   "execution_count": 18,
   "metadata": {
    "collapsed": false
   },
   "outputs": [],
   "source": [
    "from scipy.stats.mstats import linregress\n",
    "lr = linregress(oO3[:], moO3[:])"
   ]
  },
  {
   "cell_type": "code",
   "execution_count": 19,
   "metadata": {
    "collapsed": false,
    "scrolled": true
   },
   "outputs": [
    {
     "data": {
      "image/png": "[encoded data removed]",
      "text/plain": [
       "<matplotlib.figure.Figure at 0x13823e4e0>"
      ]
     },
     "metadata": {},
     "output_type": "display_data"
    }
   ],
   "source": [
    "plt.scatter(oO3[:], moO3)\n",
    "plt.plot([0,500], [0,500], ls = '-', lw = 3, color = 'k')\n",
    "x = np.array([0, 500])\n",
    "plt.plot(x, lr.slope * x + lr.intercept, ls = '--')\n",
    "plt.text(200, 500, 'r=%.2f; p=%.2f' % (lr.rvalue, lr.pvalue))\n",
    "plt.xlim(0, 500)\n",
    "plt.ylim(0, 500)\n",
    "plt.ylabel('Model')\n",
    "plt.xlabel('Obs');"
   ]
  },
  {
   "cell_type": "code",
   "execution_count": null,
   "metadata": {
    "collapsed": true
   },
   "outputs": [],
   "source": []
  },
  {
   "cell_type": "markdown",
   "metadata": {
    "slideshow": {
     "slide_type": "slide"
    }
   },
   "source": [
    "# Lon/Lat First"
   ]
  },
  {
   "cell_type": "code",
   "execution_count": 20,
   "metadata": {
    "collapsed": false
   },
   "outputs": [
    {
     "data": {
      "text/plain": [
       "(1, 72, 6817)"
      ]
     },
     "execution_count": 20,
     "metadata": {},
     "output_type": "execute_result"
    }
   ],
   "source": [
    "MLON, MLAT = np.meshgrid(mlon, mlat)\n",
    "tree = KDTree(np.ma.array([MLAT.ravel(), MLON.ravel()]).T)\n",
    "dists, idxs = tree.query(np.ma.array([olats, olons]).T)\n",
    "latidxs, lonidxs = np.unravel_index(idxs, MLAT.shape)\n",
    "meO3 = mO3[:, :, latidxs, lonidxs]\n",
    "meO3.shape"
   ]
  },
  {
   "cell_type": "code",
   "execution_count": 21,
   "metadata": {
    "collapsed": false
   },
   "outputs": [
    {
     "data": {
      "text/plain": [
       "(6817,)"
      ]
     },
     "execution_count": 21,
     "metadata": {},
     "output_type": "execute_result"
    }
   ],
   "source": [
    "dp = opres[None, None,:] - mpres[:, :, latidxs, lonidxs]\n",
    "pidx = np.abs(dp).argmin(1)[0]\n",
    "moO3 = meO3[:, pidx, np.arange(pidx.size)][0]\n",
    "moO3.shape"
   ]
  },
  {
   "cell_type": "markdown",
   "metadata": {
    "slideshow": {
     "slide_type": "subslide"
    }
   },
   "source": [
    "# Plot the results"
   ]
  },
  {
   "cell_type": "code",
   "execution_count": 22,
   "metadata": {
    "collapsed": true
   },
   "outputs": [],
   "source": [
    "from scipy.stats.mstats import linregress\n",
    "lr = linregress(oO3[:], moO3[:])"
   ]
  },
  {
   "cell_type": "code",
   "execution_count": 23,
   "metadata": {
    "collapsed": false,
    "scrolled": true,
    "slideshow": {
     "slide_type": "-"
    }
   },
   "outputs": [
    {
     "data": {
      "image/png": "[encoded data removed]",
      "text/plain": [
       "<matplotlib.figure.Figure at 0x13805e630>"
      ]
     },
     "metadata": {},
     "output_type": "display_data"
    }
   ],
   "source": [
    "plt.scatter(oO3[:], moO3)\n",
    "x = np.array([0, 500])\n",
    "plt.plot(x, x, ls = '-', lw = 3, color = 'k')\n",
    "plt.axis('square')\n",
    "plt.xlim(*x)\n",
    "plt.ylim(*x)\n",
    "plt.ylabel('Model')\n",
    "plt.xlabel('Obs')\n",
    "plt.plot(x, lr.slope * x + lr.intercept, ls = '--')\n",
    "plt.text(200, 500, 'r=%.2f; p=%.2f' % (lr.rvalue, lr.pvalue));"
   ]
  },
  {
   "cell_type": "code",
   "execution_count": null,
   "metadata": {
    "collapsed": true
   },
   "outputs": [],
   "source": []
  },
  {
   "cell_type": "markdown",
   "metadata": {
    "slideshow": {
     "slide_type": "slide"
    }
   },
   "source": [
    "# Remove Assymetric Variability\n",
    "\n",
    "- Benchmark has 1 mean-value all months\n",
    "- DC3 has 1 per minute"
   ]
  },
  {
   "cell_type": "code",
   "execution_count": 24,
   "metadata": {
    "collapsed": false
   },
   "outputs": [
    {
     "name": "stdout",
     "output_type": "stream",
     "text": [
      "304 304\n"
     ]
    }
   ],
   "source": [
    "idxs = [i for i in zip(pidx, latidxs, lonidxs)]\n",
    "uniqueset = set(idxs)\n",
    "idxs = np.array(idxs)\n",
    "ovals = []\n",
    "mvals = []\n",
    "for idx in uniqueset:\n",
    "    oi = (idxs == idx).all(1)\n",
    "    ovals.append(oO3[oi].mean())\n",
    "    mvals.append(mO3[0][idx])\n",
    "print(len(ovals), len(mvals))"
   ]
  },
  {
   "cell_type": "markdown",
   "metadata": {
    "slideshow": {
     "slide_type": "subslide"
    }
   },
   "source": [
    "# Plot Paired Time-Means"
   ]
  },
  {
   "cell_type": "code",
   "execution_count": 25,
   "metadata": {
    "collapsed": false
   },
   "outputs": [],
   "source": [
    "from scipy.stats.mstats import linregress\n",
    "lr = linregress(ovals[:], mvals[:])"
   ]
  },
  {
   "cell_type": "code",
   "execution_count": 26,
   "metadata": {
    "collapsed": false,
    "scrolled": true,
    "slideshow": {
     "slide_type": "-"
    }
   },
   "outputs": [
    {
     "data": {
      "image/png": "[encoded data removed]",
      "text/plain": [
       "<matplotlib.figure.Figure at 0x137f98438>"
      ]
     },
     "metadata": {},
     "output_type": "display_data"
    }
   ],
   "source": [
    "plt.scatter(ovals, mvals)\n",
    "plt.ylabel('Model')\n",
    "plt.xlabel('Obs')\n",
    "plt.axis('square')\n",
    "plt.xlim(0, 350)\n",
    "plt.ylim(0, 350)\n",
    "x = np.array([0, 350])\n",
    "plt.plot(x, lr.slope * x + lr.intercept, ls = '--')\n",
    "plt.title('r=%.2f; p=%.2f' % (lr.rvalue, lr.pvalue));"
   ]
  },
  {
   "cell_type": "code",
   "execution_count": null,
   "metadata": {
    "collapsed": true
   },
   "outputs": [],
   "source": []
  },
  {
   "cell_type": "markdown",
   "metadata": {
    "slideshow": {
     "slide_type": "slide"
    }
   },
   "source": [
    "# Interpolation not KDTree\n",
    "\n",
    "KDTree is just finding a cell"
   ]
  },
  {
   "cell_type": "code",
   "execution_count": 1,
   "metadata": {
    "collapsed": true
   },
   "outputs": [],
   "source": [
    "import scipy.interpolate"
   ]
  },
  {
   "cell_type": "code",
   "execution_count": 2,
   "metadata": {
    "collapsed": true
   },
   "outputs": [],
   "source": [
    "?scipy.interpolate.NearestNDInterpolator"
   ]
  },
  {
   "cell_type": "code",
   "execution_count": 3,
   "metadata": {
    "collapsed": true
   },
   "outputs": [],
   "source": [
    "?scipy.interpolate.LinearNDInterpolator"
   ]
  },
  {
   "cell_type": "markdown",
   "metadata": {
    "slideshow": {
     "slide_type": "subslide"
    }
   },
   "source": [
    "# Questions\n",
    "\n",
    "1. Are KDTree and NearestNDInterpolator the same?\n",
    "2. How different would an analysis be if we had:\n",
    "    - used LinearNDInterpolator\n",
    "    - would time normalization be necessary"
   ]
  },
  {
   "cell_type": "markdown",
   "metadata": {
    "slideshow": {
     "slide_type": "slide"
    }
   },
   "source": [
    "# Testing Populations\n",
    "\n",
    "1. Typical with normal assumption\n",
    "2. Non-parametric tests"
   ]
  },
  {
   "cell_type": "markdown",
   "metadata": {
    "slideshow": {
     "slide_type": "subslide"
    }
   },
   "source": [
    "# Parametric Tests\n",
    "\n",
    "- Pearson Correlation (pearsonr)\n",
    "- Students t-test (ttest_ind)\n",
    "- Shapiro-Wilk (shapiro)"
   ]
  },
  {
   "cell_type": "code",
   "execution_count": 27,
   "metadata": {
    "collapsed": true
   },
   "outputs": [],
   "source": [
    "from scipy.stats.mstats import ttest_ind"
   ]
  },
  {
   "cell_type": "code",
   "execution_count": 28,
   "metadata": {
    "collapsed": false
   },
   "outputs": [
    {
     "data": {
      "text/plain": [
       "Ttest_indResult(statistic=-0.10863433973388822, pvalue=0.91352848251339147)"
      ]
     },
     "execution_count": 28,
     "metadata": {},
     "output_type": "execute_result"
    }
   ],
   "source": [
    "ttr = ttest_ind(ovals, mvals)\n",
    "ttr"
   ]
  },
  {
   "cell_type": "markdown",
   "metadata": {
    "slideshow": {
     "slide_type": "subslide"
    }
   },
   "source": [
    "# Non-Parametric Tests\n",
    "\n",
    "- Spearman Correlation (spearmanr)\n",
    "- Mann Whitney U (mannwhitneyu)\n",
    "- Wilcoxon signed-rank test (wilcoxon)"
   ]
  },
  {
   "cell_type": "code",
   "execution_count": 29,
   "metadata": {
    "collapsed": true
   },
   "outputs": [],
   "source": [
    "from scipy.stats.mstats import mannwhitneyu"
   ]
  },
  {
   "cell_type": "code",
   "execution_count": 32,
   "metadata": {
    "collapsed": false
   },
   "outputs": [
    {
     "data": {
      "text/plain": [
       "MannwhitneyuResult(statistic=42283.0, pvalue=0.069963935642705352)"
      ]
     },
     "execution_count": 32,
     "metadata": {},
     "output_type": "execute_result"
    }
   ],
   "source": [
    "mwr = mannwhitneyu(ovals, mvals)\n",
    "mwr"
   ]
  },
  {
   "cell_type": "markdown",
   "metadata": {
    "slideshow": {
     "slide_type": "slide"
    }
   },
   "source": [
    "# Summary\n",
    "\n",
    "You should be able to:\n",
    "1. Spatially interpolate data using scipy.\n",
    "2. Apply statistical evaluations\n",
    "  - Parametric (Student's T-test)\n",
    "  - Non-parametric (Mann-Whitney U)"
   ]
  }
 ],
 "metadata": {
  "celltoolbar": "Slideshow",
  "kernelspec": {
   "display_name": "Python 3",
   "language": "python",
   "name": "python3"
  },
  "language_info": {
   "codemirror_mode": {
    "name": "ipython",
    "version": 3
   },
   "file_extension": ".py",
   "mimetype": "text/x-python",
   "name": "python",
   "nbconvert_exporter": "python",
   "pygments_lexer": "ipython3",
   "version": "3.5.1"
  }
 },
 "nbformat": 4,
 "nbformat_minor": 0
}
