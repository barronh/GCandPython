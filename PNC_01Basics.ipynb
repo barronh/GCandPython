{
 "cells": [
  {
   "cell_type": "code",
   "execution_count": 1,
   "metadata": {
    "collapsed": false,
    "slideshow": {
     "slide_type": "skip"
    }
   },
   "outputs": [
    {
     "data": {
      "text/plain": [
       "{'start_slideshow_at': 'selected', 'theme': 'simple', 'transition': 'convex'}"
      ]
     },
     "execution_count": 1,
     "metadata": {},
     "output_type": "execute_result"
    }
   ],
   "source": [
    "from notebook.services.config import ConfigManager\n",
    "cm = ConfigManager()\n",
    "cm.update('livereveal', {\n",
    "              'theme': 'simple',\n",
    "              'transition': 'convex',\n",
    "              'start_slideshow_at': 'selected'\n",
    "})"
   ]
  },
  {
   "cell_type": "code",
   "execution_count": 2,
   "metadata": {
    "collapsed": false
   },
   "outputs": [
    {
     "data": {
      "text/html": [
       "\n",
       "<style>\n",
       ".answers { \n",
       "    visibility: hidden;\n",
       "}\n",
       "</style>\n"
      ],
      "text/plain": [
       "<IPython.core.display.HTML object>"
      ]
     },
     "execution_count": 2,
     "metadata": {},
     "output_type": "execute_result"
    }
   ],
   "source": [
    "from IPython.core.display import HTML\n",
    "HTML(\"\"\"\n",
    "<style>\n",
    ".answers { \n",
    "    visibility: hidden;\n",
    "}\n",
    "</style>\n",
    "\"\"\")\n"
   ]
  },
  {
   "cell_type": "markdown",
   "metadata": {
    "slideshow": {
     "slide_type": "slide"
    }
   },
   "source": [
    "# Python Analysis for GEOS-Chem\n",
    "Author: Barron H. Henderson\n"
   ]
  },
  {
   "cell_type": "code",
   "execution_count": 3,
   "metadata": {
    "collapsed": false,
    "slideshow": {
     "slide_type": "slide"
    }
   },
   "outputs": [
    {
     "name": "stdout",
     "output_type": "stream",
     "text": [
      "Populating the interactive namespace from numpy and matplotlib\n",
      "/Users/barronh/Development/GCandPython/working\n"
     ]
    },
    {
     "name": "stderr",
     "output_type": "stream",
     "text": [
      "WARNING: pylab import has clobbered these variables: ['cm']\n",
      "`%matplotlib` prevents importing * from pylab and numpy\n"
     ]
    }
   ],
   "source": [
    "# Prepare my slides\n",
    "%pylab inline\n",
    "%cd working"
   ]
  },
  {
   "cell_type": "markdown",
   "metadata": {
    "slideshow": {
     "slide_type": "slide"
    }
   },
   "source": [
    "# Objectives\n",
    "\n",
    "There will be hands-on exercises for a range of GEOS-Chem analysis tools, including plotting maps with overlays, converting bpch to netcdf, editing bpch/netcdf files, and evaluating GEOS-Chem against AQSD or ICARTT campaign files.\n",
    "\n",
    "1. Produce publication quality graphics\n",
    "2. Perform standard model performance evaluations\n",
    "3. Create emission perturbations\n",
    "4. Add custom modifications to each exercise"
   ]
  },
  {
   "cell_type": "markdown",
   "metadata": {
    "slideshow": {
     "slide_type": "subslide"
    }
   },
   "source": [
    "# Abstract\n",
    "\n",
    "Attendees will learn how to leverage Python to interact with air pollution-related model and observational data. Air research and application relies on big data. In addition to the challenge presented by data size, researchers must understand a multitude of formats and meta-data standards. For example, CMAQ, CAMx, and GEOS-Chem all use different formats and different meta-data conventions. This tutorial provides format-independent and convention-independent tools."
   ]
  },
  {
   "cell_type": "markdown",
   "metadata": {
    "slideshow": {
     "slide_type": "subslide"
    }
   },
   "source": [
    "# Requirements\n",
    "\n",
    "* Some scripting experience (R, Python, Perl, bash, or csh). Attendees who do not have experience can follow my on-line Python-primer (http://www.barronh.com/software/tutorials/python-tutorial) to satisfy the requiremnt.\n",
    "* A computer with either\n",
    "  * Windows, Linux, or Mac; a text editor; and Anaconda 3.5 installed.\n",
    "  * or a computer and an account on wakari.io"
   ]
  },
  {
   "cell_type": "markdown",
   "metadata": {
    "slideshow": {
     "slide_type": "skip"
    }
   },
   "source": [
    "# 30 minutes\n"
   ]
  },
  {
   "cell_type": "markdown",
   "metadata": {
    "slideshow": {
     "slide_type": "slide"
    }
   },
   "source": [
    "# Intro to python/ipython/jupyter\n",
    "\n",
    "1. Running interactively\n",
    "    - python - least burden on system\n",
    "    - ipython - least burden on user\n",
    "    - jupyter - least burden on next user\n",
    "2. Running a saved file\n",
    "    - from terminal `$ python /path/to/file.py`\n",
    "    - from python `>>> execfile('/path/to/file.py')\n",
    "    - from ipython `In[1] %run /path/to/file.py`\n",
    "    \n",
    "*Windows replace `$` with `C:\\>`"
   ]
  },
  {
   "cell_type": "markdown",
   "metadata": {
    "slideshow": {
     "slide_type": "subslide"
    }
   },
   "source": [
    "# Basic Functions\n",
    "\n",
    "```\n",
    "def foo(bar):\n",
    "    return 'foo' + bar\n",
    "```\n",
    "\n",
    "- created with def name and call signature followed by colon\n",
    "- defined by commands following signature until the first unindented command"
   ]
  },
  {
   "cell_type": "markdown",
   "metadata": {
    "slideshow": {
     "slide_type": "subslide"
    }
   },
   "source": [
    "# Most Useful Function... ever.\n",
    "`help`:\n",
    "- `?` in ipython or jupyter\n",
    "- it will return a docstring for that element or type\n",
    "\n",
    "`type`:\n",
    "- All things in python are objects (even classes).\n",
    "- type is a function object that returns the type of another object.\n",
    "\n",
    "`print`:\n",
    "- display representation of object"
   ]
  },
  {
   "cell_type": "code",
   "execution_count": 4,
   "metadata": {
    "collapsed": true,
    "slideshow": {
     "slide_type": "subslide"
    }
   },
   "outputs": [],
   "source": [
    "def foo(bar):\n",
    "    return 'foo.' + bar"
   ]
  },
  {
   "cell_type": "code",
   "execution_count": 5,
   "metadata": {
    "collapsed": false
   },
   "outputs": [
    {
     "name": "stdout",
     "output_type": "stream",
     "text": [
      "foo.bar\n"
     ]
    }
   ],
   "source": [
    "print(foo('bar'))"
   ]
  },
  {
   "cell_type": "code",
   "execution_count": 6,
   "metadata": {
    "collapsed": false,
    "slideshow": {
     "slide_type": "-"
    }
   },
   "outputs": [
    {
     "name": "stdout",
     "output_type": "stream",
     "text": [
      "Can't convert 'int' object to str implicitly\n"
     ]
    }
   ],
   "source": [
    "try:\n",
    "    print(foo(1))\n",
    "except Exception as e:\n",
    "    print(e)"
   ]
  },
  {
   "cell_type": "code",
   "execution_count": null,
   "metadata": {
    "collapsed": true
   },
   "outputs": [],
   "source": []
  },
  {
   "cell_type": "markdown",
   "metadata": {
    "slideshow": {
     "slide_type": "subslide"
    }
   },
   "source": [
    "# Basic Types\n",
    "\n",
    "`int`, `float`:\n",
    "\n",
    "- Literals 1 is int, 1. is float\n",
    "- 64-bit precision values (i.e., float is real*8)\n",
    "\n",
    "`str`:\n",
    "\n",
    "- literal '...' or \"...\"\n",
    "- multi-line uses triple quotes\n",
    "- indexed (aka subset) with square braces and \"slices\"\n",
    "- version 3 uses system dependent string types (use encode or decode methods0\n",
    "\n",
    "*A method is a bound function..."
   ]
  },
  {
   "cell_type": "markdown",
   "metadata": {
    "slideshow": {
     "slide_type": "subslide"
    }
   },
   "source": [
    "# Integers and Floats"
   ]
  },
  {
   "cell_type": "code",
   "execution_count": 7,
   "metadata": {
    "collapsed": false,
    "slideshow": {
     "slide_type": "-"
    }
   },
   "outputs": [
    {
     "data": {
      "text/plain": [
       "2"
      ]
     },
     "execution_count": 7,
     "metadata": {},
     "output_type": "execute_result"
    }
   ],
   "source": [
    "1 + 1"
   ]
  },
  {
   "cell_type": "code",
   "execution_count": 8,
   "metadata": {
    "collapsed": false
   },
   "outputs": [
    {
     "data": {
      "text/plain": [
       "2.0"
      ]
     },
     "execution_count": 8,
     "metadata": {},
     "output_type": "execute_result"
    }
   ],
   "source": [
    "1 + 1."
   ]
  },
  {
   "cell_type": "code",
   "execution_count": 9,
   "metadata": {
    "collapsed": false
   },
   "outputs": [
    {
     "data": {
      "text/plain": [
       "0.5"
      ]
     },
     "execution_count": 9,
     "metadata": {},
     "output_type": "execute_result"
    }
   ],
   "source": [
    "1 / 2."
   ]
  },
  {
   "cell_type": "code",
   "execution_count": 10,
   "metadata": {
    "collapsed": false
   },
   "outputs": [
    {
     "data": {
      "text/plain": [
       "0"
      ]
     },
     "execution_count": 10,
     "metadata": {},
     "output_type": "execute_result"
    }
   ],
   "source": [
    "1 // 2"
   ]
  },
  {
   "cell_type": "markdown",
   "metadata": {
    "slideshow": {
     "slide_type": "subslide"
    }
   },
   "source": [
    "# strings"
   ]
  },
  {
   "cell_type": "code",
   "execution_count": 11,
   "metadata": {
    "collapsed": false
   },
   "outputs": [
    {
     "data": {
      "text/plain": [
       "b'\\n\\n'"
      ]
     },
     "execution_count": 11,
     "metadata": {},
     "output_type": "execute_result"
    }
   ],
   "source": [
    "\"\"\"\n",
    "\n",
    "\"\"\".encode()"
   ]
  },
  {
   "cell_type": "code",
   "execution_count": 12,
   "metadata": {
    "collapsed": false
   },
   "outputs": [
    {
     "data": {
      "text/plain": [
       "['a', 'b', 'c']"
      ]
     },
     "execution_count": 12,
     "metadata": {},
     "output_type": "execute_result"
    }
   ],
   "source": [
    "\"a b c\".split()"
   ]
  },
  {
   "cell_type": "code",
   "execution_count": 13,
   "metadata": {
    "collapsed": false
   },
   "outputs": [
    {
     "data": {
      "text/plain": [
       "'how can I subset?'"
      ]
     },
     "execution_count": 13,
     "metadata": {},
     "output_type": "execute_result"
    }
   ],
   "source": [
    "''.join(['h', 'ow', ' ', 'c', 'an', ' ', 'I ' 'su', 'bse', 't?'])"
   ]
  },
  {
   "cell_type": "markdown",
   "metadata": {
    "slideshow": {
     "slide_type": "subslide"
    }
   },
   "source": [
    "# slices\n",
    "\n",
    "slice([start, ]stop[, step]) or [start]:stop[:step]\n",
    "\n",
    "- slices define the subset in terms of 0-based indices\n",
    "- stop is the only required element.\n",
    "- Missing starts are implied (start: 0, end: len(utterable))"
   ]
  },
  {
   "cell_type": "markdown",
   "metadata": {
    "slideshow": {
     "slide_type": "subslide"
    }
   },
   "source": [
    "# CHECK POINT\n",
    "\n",
    "How can you rearange the string below to say \"this is so fun\"? Do not add any letters, use each type of slice."
   ]
  },
  {
   "cell_type": "code",
   "execution_count": 14,
   "metadata": {
    "collapsed": false
   },
   "outputs": [
    {
     "name": "stdout",
     "output_type": "stream",
     "text": [
      "this is "
     ]
    }
   ],
   "source": [
    "teststr = 'this is not fun.'\n",
    "print(teststr[:7], end = ' ')"
   ]
  },
  {
   "cell_type": "markdown",
   "metadata": {
    "collapsed": false,
    "slideshow": {
     "slide_type": "subslide"
    }
   },
   "source": [
    "# ANSWERS Hidden\n",
    "\n",
    "<div class=\"asnwers\">\n",
    "\n",
    "```\n",
    "print(teststr[:7], end = ' ')\n",
    "print(teststr[3:-1:6], end = '')\n",
    "print(teststr[-5:])\n",
    "```\n",
    "\n",
    "</div>"
   ]
  },
  {
   "cell_type": "markdown",
   "metadata": {
    "slideshow": {
     "slide_type": "subslide"
    }
   },
   "source": [
    "# Iterable Types\n",
    "\n",
    "lists : [item1, item2, item3, ...]\n",
    "\n",
    "- created with square braces\n",
    "- indexed with square braces (indexing is always square braces, not just lists) and \"slices\"\n",
    "- tuples are like lists, but defined with parentheses and the items are immutable.\n",
    "\n",
    "dict : {key1: value1, key2: value2, ...}\n",
    "\n",
    "- indexed with keys\n",
    "- iterate keys"
   ]
  },
  {
   "cell_type": "markdown",
   "metadata": {
    "slideshow": {
     "slide_type": "subslide"
    }
   },
   "source": [
    "# iterables\n",
    "\n",
    "- strings, lists, dict, and tuples are iterables.\n",
    "- For any iterable, you can loop over the elements with a for loop\n",
    "    - Each character in a string...\n",
    "    - Each item in a list or tuple\n",
    "    - Each key in a dictionary\n",
    "- `enumerate` is a special function that returns the element number (0-based) and the element as a tuple"
   ]
  },
  {
   "cell_type": "markdown",
   "metadata": {
    "slideshow": {
     "slide_type": "subslide"
    }
   },
   "source": [
    "# CHECK POINT\n",
    "\n",
    "The code below has three parts:\n",
    "\n",
    "- first cell define a function\n",
    "- subsequent cells call function\n",
    "- What are the types and values of a, b, and c?"
   ]
  },
  {
   "cell_type": "code",
   "execution_count": 15,
   "metadata": {
    "collapsed": true
   },
   "outputs": [],
   "source": [
    "def foo(pieces):\n",
    "    out = type(pieces[0])()\n",
    "    for i, piece in enumerate(pieces):\n",
    "        out += piece\n",
    "    return out"
   ]
  },
  {
   "cell_type": "code",
   "execution_count": 16,
   "metadata": {
    "collapsed": true
   },
   "outputs": [],
   "source": [
    "a = foo('12345')"
   ]
  },
  {
   "cell_type": "code",
   "execution_count": 17,
   "metadata": {
    "collapsed": true
   },
   "outputs": [],
   "source": [
    "b = foo([1, 2, 3, 4, 5])"
   ]
  },
  {
   "cell_type": "code",
   "execution_count": 18,
   "metadata": {
    "collapsed": false,
    "slideshow": {
     "slide_type": "-"
    }
   },
   "outputs": [],
   "source": [
    "c = foo({0: 1, 1: 2, 2: 3, 3: 4, 4: 5})"
   ]
  },
  {
   "cell_type": "code",
   "execution_count": 19,
   "metadata": {
    "collapsed": false
   },
   "outputs": [
    {
     "name": "stdout",
     "output_type": "stream",
     "text": [
      "12345 15 10\n"
     ]
    }
   ],
   "source": [
    "print(a, b, c)"
   ]
  },
  {
   "cell_type": "code",
   "execution_count": null,
   "metadata": {
    "collapsed": true
   },
   "outputs": [],
   "source": []
  },
  {
   "cell_type": "markdown",
   "metadata": {
    "slideshow": {
     "slide_type": "slide"
    }
   },
   "source": [
    "# Intro to numpy/scipy/matplotlib\n",
    "\n",
    "1. numpy - numerical python (aka, do math fast)\n",
    "2. scipy - a collection of scientific tools (aka, do stats or solve equations)\n",
    "3. matplotlib - a library for plotting (aka, make figures for my article)\n"
   ]
  },
  {
   "cell_type": "markdown",
   "metadata": {
    "slideshow": {
     "slide_type": "subslide"
    }
   },
   "source": [
    "# numpy\n",
    "\n",
    "numpy - Numerical Python (numpy.org)\n",
    "\n",
    "- Fast library for numerical mathematics\n",
    "- Large array processing (element by element)\n",
    "- Large matrix processing (using standard matrix)\n",
    "- Support for masked arrays\n",
    "- LAPACK for linear algebra\n"
   ]
  },
  {
   "cell_type": "markdown",
   "metadata": {
    "slideshow": {
     "slide_type": "subslide"
    }
   },
   "source": [
    "# Make a random \"ozone\" array"
   ]
  },
  {
   "cell_type": "code",
   "execution_count": 20,
   "metadata": {
    "collapsed": true
   },
   "outputs": [],
   "source": [
    "np.random.seed(50)\n",
    "ozone = (np.random.normal(size = 2*3*4*5) + 40).reshape(2,3,4,5)"
   ]
  },
  {
   "cell_type": "code",
   "execution_count": 21,
   "metadata": {
    "collapsed": false
   },
   "outputs": [
    {
     "name": "stdout",
     "output_type": "stream",
     "text": [
      "4\n"
     ]
    }
   ],
   "source": [
    "print(ozone.ndim)"
   ]
  },
  {
   "cell_type": "code",
   "execution_count": 22,
   "metadata": {
    "collapsed": false
   },
   "outputs": [
    {
     "name": "stdout",
     "output_type": "stream",
     "text": [
      "(2, 3, 4, 5) (3,) [ 39.66543482  40.48642763  38.50861149]\n"
     ]
    }
   ],
   "source": [
    "print(ozone.shape, ozone[0, :, 2, 3].shape, ozone[0, :, 2, 3])"
   ]
  },
  {
   "cell_type": "code",
   "execution_count": 23,
   "metadata": {
    "collapsed": false
   },
   "outputs": [
    {
     "name": "stdout",
     "output_type": "stream",
     "text": [
      "39.9511584716\n"
     ]
    }
   ],
   "source": [
    "print(ozone.mean())"
   ]
  },
  {
   "cell_type": "code",
   "execution_count": 24,
   "metadata": {
    "collapsed": false
   },
   "outputs": [
    {
     "name": "stdout",
     "output_type": "stream",
     "text": [
      "[ 38.40819179  41.52552455]\n"
     ]
    }
   ],
   "source": [
    "print(np.percentile(ozone, [5, 95]))"
   ]
  },
  {
   "cell_type": "markdown",
   "metadata": {},
   "source": [
    "* Which dimension is 2 long? 3 long? 4 long? 5 long?"
   ]
  },
  {
   "cell_type": "markdown",
   "metadata": {
    "slideshow": {
     "slide_type": "subslide"
    }
   },
   "source": [
    "# Make an \"averaging\" kernel matrix"
   ]
  },
  {
   "cell_type": "code",
   "execution_count": 25,
   "metadata": {
    "collapsed": false
   },
   "outputs": [],
   "source": [
    "averagekernel = np.array([[0.5, 0.35, 0.15],\n",
    "                          [0.25, 0.5, 0.25],\n",
    "                          [0.1, 0.4, 0.5]])\n",
    "averagekernelm = np.matrix(averagekernel)"
   ]
  },
  {
   "cell_type": "code",
   "execution_count": 26,
   "metadata": {
    "collapsed": false,
    "scrolled": true
   },
   "outputs": [
    {
     "name": "stdout",
     "output_type": "stream",
     "text": [
      "(3, 3)\n",
      "(3, 3)\n",
      "(3, 3)\n"
     ]
    }
   ],
   "source": [
    "print(averagekernel.shape)\n",
    "print(averagekernelm.shape)\n",
    "print(averagekernelm.T.shape)"
   ]
  },
  {
   "cell_type": "code",
   "execution_count": 27,
   "metadata": {
    "collapsed": true
   },
   "outputs": [],
   "source": [
    "averagekernel = np.array([0.25, 0.5, 0.25])\n",
    "averagekernelm = np.matrix(averagekernel)"
   ]
  },
  {
   "cell_type": "markdown",
   "metadata": {},
   "source": [
    "* Which dimension is the input layer and which is the output layer?"
   ]
  },
  {
   "cell_type": "markdown",
   "metadata": {
    "slideshow": {
     "slide_type": "subslide"
    }
   },
   "source": [
    "# Product sums and matrices?"
   ]
  },
  {
   "cell_type": "code",
   "execution_count": 28,
   "metadata": {
    "collapsed": false
   },
   "outputs": [
    {
     "data": {
      "text/plain": [
       "39.786725390722133"
      ]
     },
     "execution_count": 28,
     "metadata": {},
     "output_type": "execute_result"
    }
   ],
   "source": [
    "(ozone[0, :, 2, 3] * averagekernel).sum()"
   ]
  },
  {
   "cell_type": "markdown",
   "metadata": {},
   "source": [
    "```\n",
    "ozone[0, :, 2, 3] * averagekernelm\n",
    "```"
   ]
  },
  {
   "cell_type": "code",
   "execution_count": 29,
   "metadata": {
    "collapsed": false
   },
   "outputs": [
    {
     "data": {
      "text/plain": [
       "matrix([[ 39.78672539]])"
      ]
     },
     "execution_count": 29,
     "metadata": {},
     "output_type": "execute_result"
    }
   ],
   "source": [
    "ozone[0, :, 2, 3] * averagekernelm.T"
   ]
  },
  {
   "cell_type": "markdown",
   "metadata": {
    "slideshow": {
     "slide_type": "subslide"
    }
   },
   "source": [
    "# CHECK POINT\n",
    "\n",
    "Change the code to operate on all times, latitude, and longitudes without a loop."
   ]
  },
  {
   "cell_type": "code",
   "execution_count": 30,
   "metadata": {
    "collapsed": false,
    "scrolled": true
   },
   "outputs": [
    {
     "data": {
      "text/plain": [
       "array([[[ 39.36282997,  40.25207302,  39.85299116,  39.17695003,\n",
       "          40.00616423],\n",
       "        [ 39.96880295,  39.57453709,  41.21765252,  39.77559737,\n",
       "          39.72131962],\n",
       "        [ 40.38088501,  40.87504393,  40.16600716,  39.78672539,\n",
       "          40.15137381],\n",
       "        [ 40.71263105,  40.87507997,  40.94645965,  39.67761914,\n",
       "          40.4431232 ]],\n",
       "\n",
       "       [[ 40.5726842 ,  38.83362944,  40.06432046,  37.82883717,\n",
       "          39.79688735],\n",
       "        [ 40.40327088,  39.9351408 ,  39.70370031,  39.40573444,\n",
       "          38.03569959],\n",
       "        [ 39.99168397,  39.91389171,  40.50004645,  40.61334477,\n",
       "          41.17862441],\n",
       "        [ 39.41308569,  39.64410936,  39.87867507,  40.35938726,\n",
       "          39.04594661]]])"
      ]
     },
     "execution_count": 30,
     "metadata": {},
     "output_type": "execute_result"
    }
   ],
   "source": [
    "out = np.zeros_like(ozone[:, 0])\n",
    "for t in range(ozone.shape[0]):\n",
    "    for j in range(ozone.shape[2]):\n",
    "        for i in range(ozone.shape[3]):\n",
    "            out[t, j, i] = ozone[t, :, j, i] * averagekernelm.T\n",
    "out"
   ]
  },
  {
   "cell_type": "markdown",
   "metadata": {},
   "source": [
    "# ANSWERS Hidden\n",
    "\n",
    "<div style=\"visibility: hidden\">\n",
    "\n",
    "newout = (ozone * averagekernel[None, :, None, None])\n",
    "(out == out).all()\n",
    "\n",
    "</div>"
   ]
  },
  {
   "cell_type": "markdown",
   "metadata": {},
   "source": [
    "* Hint: Add singleton dimensions to force broadcasting."
   ]
  },
  {
   "cell_type": "markdown",
   "metadata": {
    "slideshow": {
     "slide_type": "subslide"
    }
   },
   "source": [
    "# scipy\n",
    "\n",
    "scipy - Scientific Python (scipy.org)\n",
    "\n",
    "- Good for physical constants\n",
    "- Large statistical library\n",
    "- Large interpolation library\n",
    "- Including masked array statistics\n",
    "- Ordinary Differential Equation Solving"
   ]
  },
  {
   "cell_type": "code",
   "execution_count": 31,
   "metadata": {
    "collapsed": false
   },
   "outputs": [],
   "source": [
    "from scipy import constants\n",
    "?constants"
   ]
  },
  {
   "cell_type": "code",
   "execution_count": 32,
   "metadata": {
    "collapsed": true
   },
   "outputs": [],
   "source": [
    "from scipy import stats\n",
    "?stats"
   ]
  },
  {
   "cell_type": "code",
   "execution_count": 33,
   "metadata": {
    "collapsed": true
   },
   "outputs": [],
   "source": [
    "from scipy.stats import stats\n",
    "?stats"
   ]
  },
  {
   "cell_type": "markdown",
   "metadata": {
    "slideshow": {
     "slide_type": "subslide"
    }
   },
   "source": [
    "# XKCD, Jelly beans, and Type I Error?\n",
    "!['So, uh, we did the green study again and got no link. It was probably a--' 'RESEARCH CONFLICTED ON GREEN JELLY BEAN/ACNE LINK; MORE STUDY RECOMMENDED!'](http://imgs.xkcd.com/comics/significant.png)"
   ]
  },
  {
   "cell_type": "code",
   "execution_count": 34,
   "metadata": {
    "collapsed": false,
    "slideshow": {
     "slide_type": "subslide"
    }
   },
   "outputs": [
    {
     "name": "stdout",
     "output_type": "stream",
     "text": [
      "0.07/0.01, 0.1/0.04, 0.12/0.05, 0.11/0.02, 0.13/0.06, 0.15/0.11, 0.08/0.04, 0.05/0.02, 0.11/0.06, 0.08/0.04, 0.06/0.02, 0.1/0.03, 0.09/0.05, 0.09/0.07, 0.08/0.06, 0.13/0.04, 0.12/0.04, 0.06/0.01, 0.09/0.03, 0.14/0.05, 0.06/0.05, 0.09/0.04, 0.04/0.03, 0.1/0.05, 0.12/0.04, 0.14/0.04, 0.1/0.04, 0.13/0.06, 0.07/0.03, 0.07/0.01, 0.12/0.07, 0.09/0.02, 0.09/0.06, 0.14/0.05, 0.09/0.03, 0.08/0.02, 0.13/0.05, 0.06/0.04, 0.06/0.06, 0.11/0.02, 0.16/0.03, 0.14/0.02, 0.09/0.05, 0.06/0.06, 0.08/0.01, 0.1/0.02, 0.11/0.05, 0.06/0.04, 0.15/0.06, 0.07/0.04, 0.1/0.05, 0.12/0.06, 0.1/0.02, 0.1/0.07, 0.07/0.05, 0.15/0.05, 0.11/0.04, 0.07/0.01, 0.09/0.03, 0.09/0.07, 20 loops, best of 3: 43.5 ms per loop\n"
     ]
    }
   ],
   "source": [
    "%%timeit -n 20\n",
    "\n",
    "from scipy.stats import ttest_ind, mannwhitneyu\n",
    "mdifferent = []\n",
    "tdifferent = []\n",
    "n = 100\n",
    "for i in range(n):\n",
    "    a = np.exp(np.random.normal(size = 20))\n",
    "    b = np.exp(np.random.normal(size = 20))\n",
    "    tresult = ttest_ind(a, b)\n",
    "    mresult = mannwhitneyu(a, b)\n",
    "    if tresult.pvalue < 0.05:\n",
    "        tdifferent.append(i);\n",
    "    if mresult.pvalue < 0.05:\n",
    "        mdifferent.append(i);\n",
    "\n",
    "        \n",
    "print(len(mdifferent)/n, end = '/')\n",
    "print(len(tdifferent)/n, end = ', ')\n",
    "\n"
   ]
  },
  {
   "cell_type": "code",
   "execution_count": 35,
   "metadata": {
    "collapsed": false
   },
   "outputs": [
    {
     "data": {
      "text/plain": [
       "0.038666666666666655"
      ]
     },
     "execution_count": 35,
     "metadata": {},
     "output_type": "execute_result"
    }
   ],
   "source": [
    "np.array([0.06, 0.06, 0.01, 0.04, 0.05, 0.02, 0.06, 0.07, 0.02, 0.07, 0.04, 0.05, 0.03, 0.08, 0.04, 0.03, 0.03, 0.02, 0.04, 0.01, 0.06, 0.04, 0.05, 0.01, 0.03, 0.04, 0.02, 0.04, 0.03, 0.02, 0.04, 0.03, 0.06, 0.03, 0.02, 0.07, 0.05, 0.02, 0.01, 0.05, 0.03, 0.04, 0.04, 0.03, 0.03, 0.04, 0.04, 0.06, 0.03, 0.05, 0.05, 0.03, 0.02, 0.0,\\\n",
    "          0.04, 0.05, 0.02, 0.07, 0.05, 0.05]).mean()\n"
   ]
  },
  {
   "cell_type": "markdown",
   "metadata": {
    "slideshow": {
     "slide_type": "subslide"
    }
   },
   "source": [
    "# matplotlib\n",
    "\n",
    "matplotlib (matplotlib.org; optionally with basemap)\n",
    "\n",
    "- Plotting library with matlab functionality and naming\n",
    "- 2-D plotting\n",
    "    - line plots\n",
    "    - date plots\n",
    "    - tile plots\n",
    "    - contour plots\n",
    "- 3-D plotting\n",
    "    - see functionality above.\n",
    "    - Sometimes harder to work with than 2-D."
   ]
  },
  {
   "cell_type": "code",
   "execution_count": null,
   "metadata": {
    "collapsed": true
   },
   "outputs": [],
   "source": []
  }
 ],
 "metadata": {
  "celltoolbar": "Slideshow",
  "kernelspec": {
   "display_name": "Python 3",
   "language": "python",
   "name": "python3"
  },
  "language_info": {
   "codemirror_mode": {
    "name": "ipython",
    "version": 3
   },
   "file_extension": ".py",
   "mimetype": "text/x-python",
   "name": "python",
   "nbconvert_exporter": "python",
   "pygments_lexer": "ipython3",
   "version": "3.5.1"
  }
 },
 "nbformat": 4,
 "nbformat_minor": 0
}
